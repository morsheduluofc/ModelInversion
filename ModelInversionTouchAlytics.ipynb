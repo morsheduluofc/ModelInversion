{
  "nbformat": 4,
  "nbformat_minor": 0,
  "metadata": {
    "colab": {
      "name": "ModelInversionTouchAlytics.ipynb",
      "provenance": [],
      "collapsed_sections": []
    },
    "kernelspec": {
      "name": "python3",
      "display_name": "Python 3"
    }
  },
  "cells": [
    {
      "cell_type": "code",
      "metadata": {
        "id": "-CtgQx7V2CWD",
        "colab": {
          "base_uri": "https://localhost:8080/",
          "height": 34
        },
        "outputId": "b0e141c4-90aa-49d9-c21a-1c8a9b7223d8"
      },
      "source": [
        "#Use the tensorflow [version 1]\n",
        "%tensorflow_version 1.x"
      ],
      "execution_count": null,
      "outputs": [
        {
          "output_type": "stream",
          "text": [
            "TensorFlow 1.x selected.\n"
          ],
          "name": "stdout"
        }
      ]
    },
    {
      "cell_type": "code",
      "metadata": {
        "id": "8Rv1Gxbt2RJx",
        "colab": {
          "base_uri": "https://localhost:8080/",
          "height": 34
        },
        "outputId": "4b537b6a-ec7c-4b54-d96e-ba002ea68746"
      },
      "source": [
        "#Read all [41 users' oversampled data]\n",
        "import csv\n",
        "import pandas as pd\n",
        "with open('Data/AllOversampledNTData.csv') as csvfile:\n",
        "    dataSet = list(csv.reader(csvfile, delimiter=','))\n",
        "dfdataSet = pd.DataFrame(dataSet[0:][:])\n",
        "dfdataSet.columns=['F1','F2','F3','F4','F5','F6','F7','F8','F9','F10','F11','F12','F13','F14','F15','F16','F17','F18','F19',\n",
        "            'F20','F21','F22','F23','F24','F25','F26','F27','F28','F29','F30','ID']\n",
        "print('Done..')"
      ],
      "execution_count": null,
      "outputs": [
        {
          "output_type": "stream",
          "text": [
            "Done..\n"
          ],
          "name": "stdout"
        }
      ]
    },
    {
      "cell_type": "code",
      "metadata": {
        "id": "O9Je27Ph2V1C"
      },
      "source": [
        "#Add all data to [a dataframe] and reset users' id from [0 to 40]\n",
        "import numpy as np\n",
        "import random\n",
        "from sklearn.utils import shuffle\n",
        "columnsN=['F1','F2','F3','F4','F5','F6','F7','F8','F9','F10','F11','F12','F13','F14','F15','F16','F17','F18','F19',\n",
        "            'F20','F21','F22','F23','F24','F25','F26','F27','F28','F29','F30','ID']\n",
        "columnsF=['F1','F2','F3','F4','F5','F6','F7','F8','F9','F10','F11','F12','F13','F14','F15','F16','F17','F18','F19',\n",
        "            'F20','F21','F22','F23','F24','F25','F26','F27','F28','F29','F30']\n",
        "\n",
        "fdataSet = pd.DataFrame(columns = columnsN)\n",
        "\n",
        "#print(fdataSet)\n",
        "for i in range (0,41):\n",
        "  #fdataSet=fdataSet.append(shuffle(dfdataSet[1000*(i-1):i*1000]),ignore_index = True)\n",
        "  fdataSet=fdataSet.append(dfdataSet[2000*i+1:(i+1)*2000+1])\n",
        "\n",
        "fDataSet=fdataSet.drop(columns=['ID'])\n",
        "#fDataSet=standardize(fDataSet,columns=columnsF)\n",
        "\n",
        "fIDSet = pd.DataFrame(columns = ['ID'])\n",
        "fIDSet=fdataSet['ID']\n",
        "for i in range (0,41):\n",
        "  fIDSet[2000*i:(i+1)*2000]=i\n",
        "\n",
        "#fDataSet['ID'] = fIDSet"
      ],
      "execution_count": null,
      "outputs": []
    },
    {
      "cell_type": "code",
      "metadata": {
        "id": "piFTfG3R2j-X",
        "colab": {
          "base_uri": "https://localhost:8080/",
          "height": 34
        },
        "outputId": "4f625006-94a3-4942-cc69-2db3f9deabec"
      },
      "source": [
        "#Seperate the data in [two groups]\n",
        "#Then divided them to tranning set, validation set and test set for all 40 users\n",
        "import numpy as np\n",
        "from numpy import array\n",
        "from keras.utils import to_categorical\n",
        "from sklearn.model_selection import train_test_split\n",
        "\n",
        "X1=fDataSet[:39999]\n",
        "y1=fIDSet[:39999]\n",
        "X2=fDataSet[40000:79999]\n",
        "y2=fIDSet[40000:79999]\n",
        "y2=y2-20\n",
        "\n",
        "#print(y1.shape)\n",
        "#print(X2)\n",
        "#print(y2)\n",
        "\n",
        "#Divide first 97 uses data in tranning set, validation set and test set for 97 users\n",
        "#X1_train, X1_test, y1_train, y1_test = train_test_split(X1, y1, test_size=0.30, random_state=22,stratify=y1)\n",
        "X1_train, X1_test, y1_train, y1_test = train_test_split(X1, y1, test_size=0.2, random_state=22)\n",
        "X1_train, X1_val, y1_train, y1_val = train_test_split(X1_train, y1_train, test_size=0.2, random_state=22)\n",
        "\n",
        "y1T=y1_train\n",
        "y1V=y1_val\n",
        "y1Te=y1_test\n",
        "\n",
        "y1_train = to_categorical(y1_train)\n",
        "y1_val = to_categorical(y1_val)\n",
        "y1_test = to_categorical(y1_test)\n",
        "\n",
        "#Divide next 97 uses data in tranning set, validation set and test set for 97 users\n",
        "#X1_train, X1_test, y1_train, y1_test = train_test_split(X1, y1, test_size=0.30, random_state=22,stratify=y1)\n",
        "X2_train, X2_test, y2_train, y2_test = train_test_split(X2, y2, test_size=0.2, random_state=22)\n",
        "X2_train, X2_val, y2_train, y2_val = train_test_split(X2_train, y2_train, test_size=0.2, random_state=22)\n",
        "\n",
        "y2T=y2_train\n",
        "y2V=y2_val\n",
        "y2Te=y2_test\n",
        "\n",
        "y2_train = to_categorical(y2_train)\n",
        "y2_val = to_categorical(y2_val)\n",
        "y2_test = to_categorical(y2_test)"
      ],
      "execution_count": null,
      "outputs": [
        {
          "output_type": "stream",
          "text": [
            "Using TensorFlow backend.\n"
          ],
          "name": "stderr"
        }
      ]
    },
    {
      "cell_type": "code",
      "metadata": {
        "id": "Rxd5hsZ6BFQ4",
        "colab": {
          "base_uri": "https://localhost:8080/",
          "height": 51
        },
        "outputId": "9db3107e-528e-4135-d217-14dd23214477"
      },
      "source": [
        "print(array(y1_train)[7])\n",
        "print(array(y2_train)[7])"
      ],
      "execution_count": null,
      "outputs": [
        {
          "output_type": "stream",
          "text": [
            "[1. 0. 0. 0. 0. 0. 0. 0. 0. 0. 0. 0. 0. 0. 0. 0. 0. 0. 0. 0.]\n",
            "[1. 0. 0. 0. 0. 0. 0. 0. 0. 0. 0. 0. 0. 0. 0. 0. 0. 0. 0. 0.]\n"
          ],
          "name": "stdout"
        }
      ]
    },
    {
      "cell_type": "code",
      "metadata": {
        "id": "-FICPBj_AtBh",
        "colab": {
          "base_uri": "https://localhost:8080/",
          "height": 51
        },
        "outputId": "fb6f0489-dfe9-4735-cd5a-aabd8776244d"
      },
      "source": [
        "#print(array(y1_train)[7])\n",
        "#print(array(y2_train)[7])"
      ],
      "execution_count": null,
      "outputs": [
        {
          "output_type": "stream",
          "text": [
            "[1. 0. 0. 0. 0. 0. 0. 0. 0. 0. 0. 0. 0. 0. 0. 0. 0. 0. 0. 0.]\n",
            "[1. 0. 0. 0. 0. 0. 0. 0. 0. 0. 0. 0. 0. 0. 0. 0. 0. 0. 0. 0.]\n"
          ],
          "name": "stdout"
        }
      ]
    },
    {
      "cell_type": "code",
      "metadata": {
        "id": "zdU2hHoA2mlc",
        "colab": {
          "base_uri": "https://localhost:8080/",
          "height": 68
        },
        "outputId": "a2844fc2-76a6-4081-d529-deed556fe860"
      },
      "source": [
        "#Print the [shape] of tranning, test and validation set\n",
        "print(X2_train.shape)\n",
        "print(X2_val.shape)\n",
        "print(X2_test.shape)"
      ],
      "execution_count": null,
      "outputs": [
        {
          "output_type": "stream",
          "text": [
            "(25599, 30)\n",
            "(6400, 30)\n",
            "(8000, 30)\n"
          ],
          "name": "stdout"
        }
      ]
    },
    {
      "cell_type": "code",
      "metadata": {
        "id": "veZ24jF43aeB"
      },
      "source": [
        "#import all necessary [packages]\n",
        "import numpy as np\n",
        "import pandas as pd\n",
        "import matplotlib.pyplot as plt\n",
        "#matplotlib inlineimport keras\n",
        "from keras.layers import Dense, Dropout, Input,Activation,Dropout, Flatten\n",
        "from keras.models import Model,Sequential\n",
        "from keras.datasets import mnist\n",
        "from tqdm import tqdm\n",
        "from keras.layers.advanced_activations import LeakyReLU\n",
        "from keras.layers import BatchNormalization\n",
        "from keras.optimizers import Adam\n",
        "import torch.nn.functional as F"
      ],
      "execution_count": null,
      "outputs": []
    },
    {
      "cell_type": "code",
      "metadata": {
        "id": "g1PrHZGm3c0V"
      },
      "source": [
        "#define all required [optimizers]\n",
        "from keras.optimizers import SGD, RMSprop, Adam\n",
        "def adam_optimizer():\n",
        "    return Adam(lr=0.0002, beta_1=0.5)\n",
        "\n",
        "def RMSprop_optimizer():\n",
        "    return RMSprop(lr=0.001, rho=0.9)"
      ],
      "execution_count": null,
      "outputs": []
    },
    {
      "cell_type": "code",
      "metadata": {
        "id": "FxtjpbH62uM4",
        "colab": {
          "base_uri": "https://localhost:8080/",
          "height": 768
        },
        "outputId": "ce50ca33-a2df-4c66-df81-40578493a59a"
      },
      "source": [
        "#Construct a [classifier]\n",
        "def create_classifier(release=False,Tuser=41):\n",
        "  classifier = Sequential()\n",
        "  classifier.add(Dense(64, input_dim=30))\n",
        "  classifier.add(BatchNormalization())\n",
        "  classifier.add(Activation('relu'))\n",
        "\n",
        "  classifier.add(Dense(128))\n",
        "  classifier.add(BatchNormalization())\n",
        "  classifier.add(Activation('relu'))\n",
        "\n",
        "  classifier.add(Dense(256))\n",
        "  classifier.add(BatchNormalization())\n",
        "  classifier.add(Activation('relu'))\n",
        "\n",
        "  #classifier.add(Dense(512))\n",
        "  #classifier.add(BatchNormalization())\n",
        "  #classifier.add(Activation('tanh'))\n",
        "\n",
        "  #classifier.add(Dense(512))\n",
        "  #classifier.add(BatchNormalization())\n",
        "  #classifier.add(Activation('tanh'))\n",
        "\n",
        "  #classifier.add(Dense(256))\n",
        "  #classifier.add(BatchNormalization())\n",
        "  #classifier.add(Activation('relu'))\n",
        "\n",
        "  classifier.add(Dense(128))\n",
        "  classifier.add(BatchNormalization())\n",
        "  classifier.add(Activation('relu'))\n",
        "\n",
        "  classifier.add(Dense(64))\n",
        "  classifier.add(BatchNormalization())\n",
        "  classifier.add(Activation('relu'))\n",
        "\n",
        "  #if release:\n",
        "  classifier.add(Dense(Tuser, activation='softmax'))\n",
        "  #else:\n",
        "  #   classifier.add(Dense(Tuser))\n",
        "  \n",
        "  #np.log_softmax_v2(a, axis=axis)\n",
        "  #classifier.add(F.softmax(a, dim=1))\n",
        "\n",
        "  classifier.compile(loss='categorical_crossentropy', optimizer='Adam',metrics=['accuracy'])\n",
        "  return classifier\n",
        "\n",
        "Clasf=create_classifier()\n",
        "Clasf.summary()"
      ],
      "execution_count": null,
      "outputs": [
        {
          "output_type": "stream",
          "text": [
            "WARNING:tensorflow:From /tensorflow-1.15.2/python3.6/tensorflow_core/python/ops/resource_variable_ops.py:1630: calling BaseResourceVariable.__init__ (from tensorflow.python.ops.resource_variable_ops) with constraint is deprecated and will be removed in a future version.\n",
            "Instructions for updating:\n",
            "If using Keras pass *_constraint arguments to layers.\n",
            "Model: \"sequential_1\"\n",
            "_________________________________________________________________\n",
            "Layer (type)                 Output Shape              Param #   \n",
            "=================================================================\n",
            "dense_1 (Dense)              (None, 64)                1984      \n",
            "_________________________________________________________________\n",
            "batch_normalization_1 (Batch (None, 64)                256       \n",
            "_________________________________________________________________\n",
            "activation_1 (Activation)    (None, 64)                0         \n",
            "_________________________________________________________________\n",
            "dense_2 (Dense)              (None, 128)               8320      \n",
            "_________________________________________________________________\n",
            "batch_normalization_2 (Batch (None, 128)               512       \n",
            "_________________________________________________________________\n",
            "activation_2 (Activation)    (None, 128)               0         \n",
            "_________________________________________________________________\n",
            "dense_3 (Dense)              (None, 256)               33024     \n",
            "_________________________________________________________________\n",
            "batch_normalization_3 (Batch (None, 256)               1024      \n",
            "_________________________________________________________________\n",
            "activation_3 (Activation)    (None, 256)               0         \n",
            "_________________________________________________________________\n",
            "dense_4 (Dense)              (None, 128)               32896     \n",
            "_________________________________________________________________\n",
            "batch_normalization_4 (Batch (None, 128)               512       \n",
            "_________________________________________________________________\n",
            "activation_4 (Activation)    (None, 128)               0         \n",
            "_________________________________________________________________\n",
            "dense_5 (Dense)              (None, 64)                8256      \n",
            "_________________________________________________________________\n",
            "batch_normalization_5 (Batch (None, 64)                256       \n",
            "_________________________________________________________________\n",
            "activation_5 (Activation)    (None, 64)                0         \n",
            "_________________________________________________________________\n",
            "dense_6 (Dense)              (None, 41)                2665      \n",
            "=================================================================\n",
            "Total params: 89,705\n",
            "Trainable params: 88,425\n",
            "Non-trainable params: 1,280\n",
            "_________________________________________________________________\n"
          ],
          "name": "stdout"
        }
      ]
    },
    {
      "cell_type": "code",
      "metadata": {
        "id": "6eND28cp22nC",
        "colab": {
          "base_uri": "https://localhost:8080/",
          "height": 1000
        },
        "outputId": "f605d91e-8c9b-42eb-a941-ce16714d42cd"
      },
      "source": [
        "# [Train the classifier] by first group of users\n",
        "import keras\n",
        "from keras.datasets import mnist\n",
        "from keras.models import Model\n",
        "from keras.layers import Input, Conv2D, MaxPooling2D, Flatten, Dense, UpSampling2D\n",
        "from keras.optimizers import SGD, RMSprop, Adam\n",
        "from keras.callbacks import ReduceLROnPlateau\n",
        "\n",
        "learning_rate_reduction = ReduceLROnPlateau(monitor='val_acc', patience=5, verbose=1, factor=0.5,min_lr=0.0001)\n",
        "callbacks_list = [learning_rate_reduction]\n",
        "\n",
        "Classfier2= create_classifier(True,20)\n",
        "\n",
        "#------Comment will start from here\n",
        "lossc='categorical_crossentropy'\n",
        "optimizerc=RMSprop(lr=0.001, rho=0.9)\n",
        "Classfier2.compile(loss=lossc, optimizer=optimizerc,metrics=['accuracy'])\n",
        "#------Comments will end from here\n",
        "historyc2 =  Classfier2.fit(X1_train, y1_train, batch_size=64, epochs=50, validation_data=(X1_val, y1_val),verbose=1, callbacks=callbacks_list)"
      ],
      "execution_count": null,
      "outputs": [
        {
          "output_type": "stream",
          "text": [
            "WARNING:tensorflow:From /usr/local/lib/python3.6/dist-packages/keras/backend/tensorflow_backend.py:422: The name tf.global_variables is deprecated. Please use tf.compat.v1.global_variables instead.\n",
            "\n",
            "Train on 25599 samples, validate on 6400 samples\n",
            "Epoch 1/50\n",
            "25599/25599 [==============================] - 3s 121us/step - loss: 1.0398 - accuracy: 0.6940 - val_loss: 1.5078 - val_accuracy: 0.4916\n",
            "Epoch 2/50\n",
            " 2112/25599 [=>............................] - ETA: 1s - loss: 0.6709 - accuracy: 0.7798"
          ],
          "name": "stdout"
        },
        {
          "output_type": "stream",
          "text": [
            "/usr/local/lib/python3.6/dist-packages/keras/callbacks/callbacks.py:1042: RuntimeWarning: Reduce LR on plateau conditioned on metric `val_acc` which is not available. Available metrics are: val_loss,val_accuracy,loss,accuracy,lr\n",
            "  (self.monitor, ','.join(list(logs.keys()))), RuntimeWarning\n"
          ],
          "name": "stderr"
        },
        {
          "output_type": "stream",
          "text": [
            "25599/25599 [==============================] - 2s 84us/step - loss: 0.6059 - accuracy: 0.8052 - val_loss: 0.6100 - val_accuracy: 0.7987\n",
            "Epoch 3/50\n",
            "25599/25599 [==============================] - 2s 86us/step - loss: 0.4961 - accuracy: 0.8381 - val_loss: 0.7110 - val_accuracy: 0.7747\n",
            "Epoch 4/50\n",
            "25599/25599 [==============================] - 2s 85us/step - loss: 0.4262 - accuracy: 0.8577 - val_loss: 0.5881 - val_accuracy: 0.8191\n",
            "Epoch 5/50\n",
            "25599/25599 [==============================] - 2s 85us/step - loss: 0.3861 - accuracy: 0.8704 - val_loss: 0.4614 - val_accuracy: 0.8425\n",
            "Epoch 6/50\n",
            "25599/25599 [==============================] - 2s 85us/step - loss: 0.3488 - accuracy: 0.8836 - val_loss: 0.4624 - val_accuracy: 0.8450\n",
            "Epoch 7/50\n",
            "25599/25599 [==============================] - 2s 84us/step - loss: 0.3267 - accuracy: 0.8910 - val_loss: 0.4718 - val_accuracy: 0.8495\n",
            "Epoch 8/50\n",
            "25599/25599 [==============================] - 2s 85us/step - loss: 0.3027 - accuracy: 0.9004 - val_loss: 0.4523 - val_accuracy: 0.8578\n",
            "Epoch 9/50\n",
            "25599/25599 [==============================] - 2s 87us/step - loss: 0.2853 - accuracy: 0.9036 - val_loss: 0.2977 - val_accuracy: 0.9031\n",
            "Epoch 10/50\n",
            "25599/25599 [==============================] - 2s 86us/step - loss: 0.2680 - accuracy: 0.9104 - val_loss: 0.3601 - val_accuracy: 0.8914\n",
            "Epoch 11/50\n",
            "25599/25599 [==============================] - 2s 84us/step - loss: 0.2553 - accuracy: 0.9124 - val_loss: 0.5356 - val_accuracy: 0.8291\n",
            "Epoch 12/50\n",
            "25599/25599 [==============================] - 2s 84us/step - loss: 0.2421 - accuracy: 0.9180 - val_loss: 0.3315 - val_accuracy: 0.8908\n",
            "Epoch 13/50\n",
            "25599/25599 [==============================] - 2s 84us/step - loss: 0.2345 - accuracy: 0.9186 - val_loss: 0.2747 - val_accuracy: 0.9145\n",
            "Epoch 14/50\n",
            "25599/25599 [==============================] - 2s 85us/step - loss: 0.2205 - accuracy: 0.9262 - val_loss: 0.3648 - val_accuracy: 0.8841\n",
            "Epoch 15/50\n",
            "25599/25599 [==============================] - 2s 85us/step - loss: 0.2100 - accuracy: 0.9282 - val_loss: 0.2804 - val_accuracy: 0.9086\n",
            "Epoch 16/50\n",
            "25599/25599 [==============================] - 2s 84us/step - loss: 0.2034 - accuracy: 0.9323 - val_loss: 0.2561 - val_accuracy: 0.9203\n",
            "Epoch 17/50\n",
            "25599/25599 [==============================] - 2s 83us/step - loss: 0.2026 - accuracy: 0.9307 - val_loss: 0.2890 - val_accuracy: 0.9070\n",
            "Epoch 18/50\n",
            "25599/25599 [==============================] - 2s 83us/step - loss: 0.1947 - accuracy: 0.9339 - val_loss: 0.3389 - val_accuracy: 0.8919\n",
            "Epoch 19/50\n",
            "25599/25599 [==============================] - 2s 84us/step - loss: 0.1863 - accuracy: 0.9359 - val_loss: 0.2981 - val_accuracy: 0.9075\n",
            "Epoch 20/50\n",
            "25599/25599 [==============================] - 2s 84us/step - loss: 0.1828 - accuracy: 0.9368 - val_loss: 0.3039 - val_accuracy: 0.9031\n",
            "Epoch 21/50\n",
            "25599/25599 [==============================] - 2s 84us/step - loss: 0.1850 - accuracy: 0.9364 - val_loss: 0.3012 - val_accuracy: 0.9047\n",
            "Epoch 22/50\n",
            "25599/25599 [==============================] - 2s 84us/step - loss: 0.1665 - accuracy: 0.9442 - val_loss: 0.2196 - val_accuracy: 0.9352\n",
            "Epoch 23/50\n",
            "25599/25599 [==============================] - 2s 82us/step - loss: 0.1713 - accuracy: 0.9414 - val_loss: 0.4422 - val_accuracy: 0.8717\n",
            "Epoch 24/50\n",
            "25599/25599 [==============================] - 2s 85us/step - loss: 0.1633 - accuracy: 0.9443 - val_loss: 0.3474 - val_accuracy: 0.8930\n",
            "Epoch 25/50\n",
            "25599/25599 [==============================] - 2s 86us/step - loss: 0.1624 - accuracy: 0.9439 - val_loss: 0.2474 - val_accuracy: 0.9284\n",
            "Epoch 26/50\n",
            "25599/25599 [==============================] - 2s 84us/step - loss: 0.1507 - accuracy: 0.9491 - val_loss: 0.2499 - val_accuracy: 0.9244\n",
            "Epoch 27/50\n",
            "25599/25599 [==============================] - 2s 83us/step - loss: 0.1555 - accuracy: 0.9453 - val_loss: 0.2895 - val_accuracy: 0.9148\n",
            "Epoch 28/50\n",
            "25599/25599 [==============================] - 2s 83us/step - loss: 0.1477 - accuracy: 0.9505 - val_loss: 0.3621 - val_accuracy: 0.8978\n",
            "Epoch 29/50\n",
            "25599/25599 [==============================] - 2s 86us/step - loss: 0.1486 - accuracy: 0.9504 - val_loss: 0.3819 - val_accuracy: 0.8856\n",
            "Epoch 30/50\n",
            "25599/25599 [==============================] - 2s 84us/step - loss: 0.1458 - accuracy: 0.9497 - val_loss: 0.2789 - val_accuracy: 0.9194\n",
            "Epoch 31/50\n",
            "25599/25599 [==============================] - 2s 86us/step - loss: 0.1434 - accuracy: 0.9516 - val_loss: 0.2210 - val_accuracy: 0.9375\n",
            "Epoch 32/50\n",
            "25599/25599 [==============================] - 2s 84us/step - loss: 0.1377 - accuracy: 0.9529 - val_loss: 0.3400 - val_accuracy: 0.9006\n",
            "Epoch 33/50\n",
            "25599/25599 [==============================] - 2s 83us/step - loss: 0.1382 - accuracy: 0.9523 - val_loss: 0.3661 - val_accuracy: 0.8950\n",
            "Epoch 34/50\n",
            "25599/25599 [==============================] - 2s 87us/step - loss: 0.1400 - accuracy: 0.9516 - val_loss: 0.2346 - val_accuracy: 0.9345\n",
            "Epoch 35/50\n",
            "25599/25599 [==============================] - 2s 83us/step - loss: 0.1378 - accuracy: 0.9542 - val_loss: 0.2264 - val_accuracy: 0.9344\n",
            "Epoch 36/50\n",
            "25599/25599 [==============================] - 2s 81us/step - loss: 0.1297 - accuracy: 0.9552 - val_loss: 0.2734 - val_accuracy: 0.9222\n",
            "Epoch 37/50\n",
            "25599/25599 [==============================] - 2s 85us/step - loss: 0.1312 - accuracy: 0.9536 - val_loss: 0.2903 - val_accuracy: 0.9158\n",
            "Epoch 38/50\n",
            "25599/25599 [==============================] - 2s 88us/step - loss: 0.1264 - accuracy: 0.9566 - val_loss: 0.5108 - val_accuracy: 0.8547\n",
            "Epoch 39/50\n",
            "25599/25599 [==============================] - 2s 85us/step - loss: 0.1244 - accuracy: 0.9573 - val_loss: 0.2176 - val_accuracy: 0.9394\n",
            "Epoch 40/50\n",
            "25599/25599 [==============================] - 2s 85us/step - loss: 0.1201 - accuracy: 0.9587 - val_loss: 0.3274 - val_accuracy: 0.9028\n",
            "Epoch 41/50\n",
            "25599/25599 [==============================] - 2s 85us/step - loss: 0.1207 - accuracy: 0.9584 - val_loss: 0.2735 - val_accuracy: 0.9300\n",
            "Epoch 42/50\n",
            "25599/25599 [==============================] - 2s 85us/step - loss: 0.1250 - accuracy: 0.9580 - val_loss: 0.2460 - val_accuracy: 0.9325\n",
            "Epoch 43/50\n",
            "25599/25599 [==============================] - 2s 85us/step - loss: 0.1169 - accuracy: 0.9593 - val_loss: 0.3191 - val_accuracy: 0.9059\n",
            "Epoch 44/50\n",
            "25599/25599 [==============================] - 2s 84us/step - loss: 0.1193 - accuracy: 0.9591 - val_loss: 0.2414 - val_accuracy: 0.9355\n",
            "Epoch 45/50\n",
            "25599/25599 [==============================] - 2s 84us/step - loss: 0.1137 - accuracy: 0.9604 - val_loss: 0.3206 - val_accuracy: 0.9145\n",
            "Epoch 46/50\n",
            "25599/25599 [==============================] - 2s 85us/step - loss: 0.1160 - accuracy: 0.9606 - val_loss: 0.2047 - val_accuracy: 0.9463\n",
            "Epoch 47/50\n",
            "25599/25599 [==============================] - 2s 86us/step - loss: 0.1135 - accuracy: 0.9619 - val_loss: 0.2592 - val_accuracy: 0.9294\n",
            "Epoch 48/50\n",
            "25599/25599 [==============================] - 2s 85us/step - loss: 0.1094 - accuracy: 0.9625 - val_loss: 0.3080 - val_accuracy: 0.9248\n",
            "Epoch 49/50\n",
            "25599/25599 [==============================] - 2s 85us/step - loss: 0.1073 - accuracy: 0.9639 - val_loss: 0.3169 - val_accuracy: 0.9200\n",
            "Epoch 50/50\n",
            "25599/25599 [==============================] - 2s 85us/step - loss: 0.1116 - accuracy: 0.9614 - val_loss: 0.2389 - val_accuracy: 0.9373\n"
          ],
          "name": "stdout"
        }
      ]
    },
    {
      "cell_type": "code",
      "metadata": {
        "id": "1PE9RLvKt0wu",
        "colab": {
          "base_uri": "https://localhost:8080/",
          "height": 296
        },
        "outputId": "02f75172-b09b-4089-ce08-4d467ae32827"
      },
      "source": [
        "# Plot the classifier loss and accuracy curves for training and validation data\n",
        "import matplotlib.pyplot as plt\n",
        "plt.plot(historyc2.history['accuracy'], color='b', label=\"Training accuracy\")\n",
        "plt.plot(historyc2.history['val_accuracy'], color='r',label=\"Validation accuracy\")\n",
        "legend = plt.legend(loc='best', shadow=True)\n",
        "plt.ylabel('accuracy')\n",
        "plt.xlabel('epochs')"
      ],
      "execution_count": null,
      "outputs": [
        {
          "output_type": "execute_result",
          "data": {
            "text/plain": [
              "Text(0.5, 0, 'epochs')"
            ]
          },
          "metadata": {
            "tags": []
          },
          "execution_count": 11
        },
        {
          "output_type": "display_data",
          "data": {
            "image/png": "[encoded data removed]",
            "text/plain": [
              "<Figure size 432x288 with 1 Axes>"
            ]
          },
          "metadata": {
            "tags": [],
            "needs_background": "light"
          }
        }
      ]
    },
    {
      "cell_type": "code",
      "metadata": {
        "id": "mLZ-nM-LEn3w",
        "colab": {
          "base_uri": "https://localhost:8080/",
          "height": 68
        },
        "outputId": "92cadcf8-5151-4e8e-ccdd-16f332df39bf"
      },
      "source": [
        "#[Performance] of the classifier for first user group\n",
        "Classfier2.compile(loss='categorical_crossentropy', optimizer=Adam(),metrics=['accuracy'])\n",
        "loss, accuracy = Classfier2.evaluate(X1_train, y1_train)\n",
        "#print('Test score:', score)\n",
        "print('Loss:', loss)\n",
        "print('Accuracy:', accuracy)"
      ],
      "execution_count": null,
      "outputs": [
        {
          "output_type": "stream",
          "text": [
            "25599/25599 [==============================] - 1s 51us/step\n",
            "Loss: 0.1187666133877097\n",
            "Accuracy: 0.9568732976913452\n"
          ],
          "name": "stdout"
        }
      ]
    },
    {
      "cell_type": "code",
      "metadata": {
        "id": "JpevABKk_Cxn",
        "colab": {
          "base_uri": "https://localhost:8080/",
          "height": 68
        },
        "outputId": "5f27bed0-3618-4b8c-8dbf-e0fc02e0697e"
      },
      "source": [
        "#[Performance] of the classifier for first user group\n",
        "Classfier2.compile(loss='categorical_crossentropy', optimizer=Adam(),metrics=['accuracy'])\n",
        "loss, accuracy = Classfier2.evaluate(X2_train, y2_train)\n",
        "#print('Test score:', score)\n",
        "print('Loss:', loss)\n",
        "print('Accuracy:', accuracy)"
      ],
      "execution_count": null,
      "outputs": [
        {
          "output_type": "stream",
          "text": [
            "25599/25599 [==============================] - 1s 53us/step\n",
            "Loss: 19.7914280039225\n",
            "Accuracy: 0.01824289932847023\n"
          ],
          "name": "stdout"
        }
      ]
    },
    {
      "cell_type": "code",
      "metadata": {
        "id": "MdAtk_JQW0Mr"
      },
      "source": [
        "#Related to neighbor class estimation of non-zero probability class[Actual data]\n",
        "#Take only [top-ranked probability class index]\n",
        "import numpy as np\n",
        "rank=5\n",
        "X11_train=Classfier2.predict(X1_train)\n",
        "X11_test=Classfier2.predict(X1_test)\n",
        "n1,m1=X11_train.shape\n",
        "n2,m2=X11_test.shape\n",
        "\n",
        "y11_train = np.zeros([n1,5], dtype=float)\n",
        "y11_test = np.zeros([n2], dtype=float)\n",
        "\n",
        "\n",
        "for i in range(n1):\n",
        "  ind=X11_train[i].argsort()[-rank:][::-1]\n",
        "  y11_train[i][0]=ind[0]\n",
        "\n",
        "for i in range(n2):\n",
        "  ind=X11_test[i].argsort()[-rank:][::-1]\n",
        "  y11_test[i]=ind[0]"
      ],
      "execution_count": null,
      "outputs": []
    },
    {
      "cell_type": "code",
      "metadata": {
        "id": "AIbP-7c8XQG6",
        "colab": {
          "base_uri": "https://localhost:8080/",
          "height": 34
        },
        "outputId": "b8421eca-7e21-4291-8e6e-8e83f67b82e1"
      },
      "source": [
        "#Related to neighbor class estimation of non-zero probability class [Actual data]\n",
        "from sklearn.random_projection import SparseRandomProjection\n",
        "from scipy.spatial import distance\n",
        "import numpy\n",
        "\n",
        "n1,m1=X1_train.shape\n",
        "n2,m2=X1_test.shape\n",
        "\n",
        "\n",
        "y1T=array(y1T)\n",
        "y1Te=array(y1Te)\n",
        "X1_train=array(X1_train)\n",
        "X1_test=array(X1_test)\n",
        "kNN=2000\n",
        "count=0;\n",
        "\n",
        "#indx=2\n",
        "sum=numpy.zeros(20)\n",
        "allSort1=numpy.zeros((n1,20))\n",
        "\n",
        "#distance.euclidean(X2_train[1].values, X2_test[1].values)\n",
        "#print('Hello')\n",
        "#with open('Data/allDistanceT.csv') as csvfile:\n",
        "#    d = list(csv.reader(csvfile, delimiter=','))\n",
        "\n",
        "for indx in range(n1):\n",
        "  d=numpy.zeros(n2)\n",
        "  for j in range(n2):\n",
        "    #d[j] = distance.euclidean(encoded_train[j], encoded_test[indx])\n",
        "    d[j] = distance.euclidean(X1_train[indx].astype(float), X1_test[j].astype(float))\n",
        "\n",
        "  ind=d.argsort()\n",
        "\n",
        "  #classID=23\n",
        "  allSum=0\n",
        "  for classID in range(20): \n",
        "    sum1=0\n",
        "    sum2=0\n",
        "    k=0\n",
        "    l=0\n",
        "    while(k<kNN):\n",
        "    #print(encoded_test[i])\n",
        "      if(y11_test[ind[l]]==classID and y11_test[ind[l]]!=y11_train[indx][0]):\n",
        "        #d = distance.euclidean(encoded_train[ind[k]], encoded_test[indx])\n",
        "        d1 = d[ind[l]]\n",
        "        #d = distance.euclidean(X2_train[ind[k]].astype(float), X2_test[indx].astype(float))\n",
        "        sum1=sum1+np.exp(-d1)\n",
        "        k=k+1\n",
        "        l=l+1\n",
        "      elif(y11_test[ind[l]]!=y11_train[indx][0]) :\n",
        "        #d = distance.euclidean(encoded_train[ind[k]], encoded_test[indx])\n",
        "        d2 = d[ind[l]]\n",
        "        #d = distance.euclidean(X2_train[ind[k]].astype(float), X2_test[indx].astype(float))\n",
        "        sum2=sum2+np.exp(-d2)\n",
        "        k=k+1\n",
        "        l=l+1\n",
        "      else:\n",
        "        l=l+1\n",
        "\n",
        "    if(classID!=y11_train[indx][0]):\n",
        "      sum[classID]=sum1/(sum1+sum2)\n",
        "    else:\n",
        "     sum[classID]=-1\n",
        " \n",
        "  #allSum=allSum+(sum1/(sum1+sum2))\n",
        "  sumsort=sum.argsort()\n",
        "  allSort1[indx]=sumsort\n",
        "  #print(sumsort)\n",
        "  \n",
        "  if(y11_train[indx][0]==sumsort[19]):\n",
        "     count=count+1;\n",
        " #print(y2Te[indx])\n",
        " #print(count)\n",
        "\n",
        "print((count/1000)*100)"
      ],
      "execution_count": null,
      "outputs": [
        {
          "output_type": "stream",
          "text": [
            "0.0\n"
          ],
          "name": "stdout"
        }
      ]
    },
    {
      "cell_type": "code",
      "metadata": {
        "id": "59OjTTSczIyj"
      },
      "source": [
        "#[Actual data]: Comparison the output of NN and k-NN\n",
        "X11_train=Classfier2.predict(X1_train)\n",
        "n1,m1=X11_train.shape\n",
        "rank=20\n",
        "orgNeighbor=np.zeros([n1,20], dtype=float)\n",
        "predNeighbor=np.zeros([n1,20], dtype=float)\n",
        "\n",
        "orgNeighbor1=np.zeros([n1,5], dtype=float)\n",
        "predNeighbor1=np.zeros([n1,5], dtype=float)\n",
        "\n",
        "orgNeighbor2=np.zeros([n1,10], dtype=float)\n",
        "predNeighbor2=np.zeros([n1,10], dtype=float)\n",
        "\n",
        "predNeighbor=allSort1\n",
        "for i in range(n1):\n",
        "  orgNeighbor[i]=X11_train[i].argsort()[-rank:][::-1]\n",
        "\n",
        "for i in range(n1):\n",
        "   for j in range(1,6):\n",
        "    orgNeighbor1[i][j-1]=orgNeighbor[i][j]\n",
        "    predNeighbor1[i][j-1]=predNeighbor[i][20-j] \n",
        "\n",
        "for i in range(n1):\n",
        "   for j in range(1,11):\n",
        "    orgNeighbor2[i][j-1]=orgNeighbor[i][j]\n",
        "    predNeighbor2[i][j-1]=predNeighbor[i][20-j] \n",
        "\n",
        "#print(orgNeighbor[0:1])\n",
        "#print(predNeighbor[0:1])"
      ],
      "execution_count": null,
      "outputs": []
    },
    {
      "cell_type": "code",
      "metadata": {
        "id": "Dh8C0HRAzkPN"
      },
      "source": [
        "#[Actual data]: Comparison the output of NN and k-NN\n",
        "commonSize1=np.zeros(n1)\n",
        "commonSize2=np.zeros(n1)\n",
        "\n",
        "for i in range(n1):\n",
        "  orgNeighborSet1=set(orgNeighbor1[i])\n",
        "  predNeighborSet1=set(predNeighbor1[i])\n",
        "  common1 = orgNeighborSet1.intersection(predNeighborSet1)\n",
        "  commonSize1[i]=len(common1)\n",
        "\n",
        "  orgNeighborSet2=set(orgNeighbor2[i])\n",
        "  predNeighborSet2=set(predNeighbor2[i])\n",
        "  common2 = orgNeighborSet2.intersection(predNeighborSet2)\n",
        "  commonSize2[i]=len(common2)\n",
        "\n",
        "#print(commonSize)"
      ],
      "execution_count": null,
      "outputs": []
    },
    {
      "cell_type": "code",
      "metadata": {
        "id": "RZcW_Ru70UBm",
        "colab": {
          "base_uri": "https://localhost:8080/",
          "height": 51
        },
        "outputId": "c89df68f-0ba8-400c-dfd8-47ec806b5119"
      },
      "source": [
        "print(orgNeighbor1[3])\n",
        "print(predNeighbor1[3])"
      ],
      "execution_count": null,
      "outputs": [
        {
          "output_type": "stream",
          "text": [
            "[ 9.  2. 18. 15.  5.]\n",
            "[ 2. 18.  7.  5. 11.]\n"
          ],
          "name": "stdout"
        }
      ]
    },
    {
      "cell_type": "code",
      "metadata": {
        "id": "rvW15Gu9zzeD",
        "colab": {
          "base_uri": "https://localhost:8080/",
          "height": 279
        },
        "outputId": "f9e77818-ca88-420e-db7e-346bc08031b6"
      },
      "source": [
        "#[Actual data]: Comparison the output of NN and k-NN\n",
        "import matplotlib.pyplot as plt\n",
        "X=np.arange(0, n1, 1).tolist()\n",
        "xlocs, xlabs = plt.xticks()\n",
        "xlabs=[i for i in range(0,10)]\n",
        "x_pos = [i for i, _ in enumerate(xlabs)] \n",
        "Y1=commonSize1\n",
        "Y2=commonSize2\n",
        "plt.hist([Y1,Y2])\n",
        "plt.legend(['Top 5 neighbor classes','Top 10 neighbor classes'])\n",
        "plt.ylabel('Frequency')\n",
        "plt.xlabel('Common class')\n",
        "plt.xlim(0,10)\n",
        "plt.ylim(0,11500)\n",
        "plt.xticks(x_pos, xlabs)\n",
        "#legend = plt.legend(loc='best', shadow=True)\n",
        "plt.show()"
      ],
      "execution_count": null,
      "outputs": [
        {
          "output_type": "display_data",
          "data": {
            "image/png": "[encoded data removed]",
            "text/plain": [
              "<Figure size 432x288 with 1 Axes>"
            ]
          },
          "metadata": {
            "tags": [],
            "needs_background": "light"
          }
        }
      ]
    },
    {
      "cell_type": "code",
      "metadata": {
        "id": "zkDG711wxubu"
      },
      "source": [
        "#Related to neighbor class estimation of non-zero probability class[For auxilary data]\n",
        "#Input the data of [second users' group] to the classifier\n",
        "#Take only [top-ranked probability class index]\n",
        "import numpy as np\n",
        "rank=5\n",
        "X22_train=Classfier2.predict(X2_train)\n",
        "X22_test=Classfier2.predict(X2_test)\n",
        "n1,m1=X22_train.shape\n",
        "n2,m2=X22_test.shape\n",
        "\n",
        "y22_train = np.zeros([n1,5], dtype=float)\n",
        "y22_test = np.zeros([n2], dtype=float)\n",
        "\n",
        "\n",
        "for i in range(n1):\n",
        "  ind=X22_train[i].argsort()[-rank:][::-1]\n",
        "  y22_train[i][0]=ind[0]\n",
        "\n",
        "for i in range(n2):\n",
        "  ind=X22_test[i].argsort()[-rank:][::-1]\n",
        "  y22_test[i]=ind[0]"
      ],
      "execution_count": null,
      "outputs": []
    },
    {
      "cell_type": "code",
      "metadata": {
        "id": "JumpwHEwyrXR"
      },
      "source": [
        "#Related to neighbor class estimation of non-zero probability class [For auxilary data]\n",
        "#Based on top-ranked probability value [group all test data in different classes]\n",
        "#Based on test data class and top-ranked probablity class of tranning sample\n",
        "#calculate neighbor of top-ranked probablity class by using Euclidean distance based approach\n",
        "from sklearn.random_projection import SparseRandomProjection\n",
        "from scipy.spatial import distance\n",
        "import numpy\n",
        "\n",
        "n1,m1=X2_train.shape\n",
        "n2,m2=X2_test.shape\n",
        "\n",
        "\n",
        "y2T=array(y2T)\n",
        "y2Te=array(y2Te)\n",
        "X2_train=array(X2_train)\n",
        "X2_test=array(X2_test)\n",
        "kNN=10\n",
        "count=0;\n",
        "\n",
        "#indx=2\n",
        "sum=numpy.zeros(20)\n",
        "allSort2=numpy.zeros((n1,20))\n",
        "\n",
        "#distance.euclidean(X2_train[1].values, X2_test[1].values)\n",
        "#print('Hello')\n",
        "#with open('Data/allDistanceT.csv') as csvfile:\n",
        "#    d = list(csv.reader(csvfile, delimiter=','))\n",
        "\n",
        "for indx in range(n1):\n",
        "  d=numpy.zeros(n2)\n",
        "  for j in range(n2):\n",
        "    #d[j] = distance.euclidean(encoded_train[j], encoded_test[indx])\n",
        "    d[j] = distance.euclidean(X2_train[indx].astype(float), X2_test[j].astype(float))\n",
        "\n",
        "  ind=d.argsort()\n",
        "\n",
        "  #classID=23\n",
        "  allSum=0\n",
        "  for classID in range(20): \n",
        "    sum1=0\n",
        "    sum2=0\n",
        "    k=0\n",
        "    l=0\n",
        "    while(k<kNN):\n",
        "    #print(encoded_test[i])\n",
        "      if(y22_test[ind[l]]==classID and y22_test[ind[l]]!=y22_train[indx][0]):\n",
        "        #d = distance.euclidean(encoded_train[ind[k]], encoded_test[indx])\n",
        "        d1 = d[ind[l]]\n",
        "        #d = distance.euclidean(X2_train[ind[k]].astype(float), X2_test[indx].astype(float))\n",
        "        sum1=sum1+np.exp(-d1)\n",
        "        k=k+1\n",
        "        l=l+1\n",
        "      elif(y22_test[ind[l]]!=y22_train[indx][0]) :\n",
        "        #d = distance.euclidean(encoded_train[ind[k]], encoded_test[indx])\n",
        "        d2 = d[ind[l]]\n",
        "        #d = distance.euclidean(X2_train[ind[k]].astype(float), X2_test[indx].astype(float))\n",
        "        sum2=sum2+np.exp(-d2)\n",
        "        k=k+1\n",
        "        l=l+1\n",
        "      else:\n",
        "        l=l+1\n",
        "\n",
        "    if(classID!=y22_train[indx][0]):\n",
        "      sum[classID]=sum1/(sum1+sum2)\n",
        "    else:\n",
        "     sum[classID]=-1\n",
        " \n",
        "  #allSum=allSum+(sum1/(sum1+sum2))\n",
        "  sumsort=sum.argsort()\n",
        "  allSort2[indx]=sumsort\n",
        "  #print(sumsort)\n",
        "  \n",
        "  if(y22_train[indx][0]==sumsort[19]):\n",
        "     count=count+1;\n",
        " #print(y2Te[indx])\n",
        " #print(count)\n",
        "\n",
        "print((count/1000)*100)"
      ],
      "execution_count": null,
      "outputs": []
    },
    {
      "cell_type": "code",
      "metadata": {
        "id": "pddXizcL-sQk",
        "colab": {
          "base_uri": "https://localhost:8080/",
          "height": 34
        },
        "outputId": "489777cf-22e4-4be2-80f0-e75031a74b5f"
      },
      "source": [
        "#Related to neighbor class estimation of non-zero probability class [For auxilary data and Random projection]\n",
        "#Based on top-ranked probability value [group all test data in different classes]\n",
        "#Based on test data class and top-ranked probablity class of tranning sample\n",
        "#calculate neighbor of top-ranked probablity class by using Euclidean distance based approach\n",
        "from sklearn.random_projection import SparseRandomProjection\n",
        "from scipy.spatial import distance\n",
        "import numpy\n",
        "\n",
        "sp = SparseRandomProjection(26)\n",
        "X22_train = sp.fit_transform(X2_train)\n",
        "X22_test = sp.fit_transform(X2_test)\n",
        "\n",
        "n1,m1=X22_train.shape\n",
        "n2,m2=X22_test.shape\n",
        "\n",
        "\n",
        "y2T=array(y2T)\n",
        "y2Te=array(y2Te)\n",
        "X22_train=array(X22_train)\n",
        "X22_test=array(X22_test)\n",
        "kNN=10\n",
        "count=0;\n",
        "\n",
        "#indx=2\n",
        "sum=numpy.zeros(20)\n",
        "allSort2=numpy.zeros((n1,20))\n",
        "\n",
        "#distance.euclidean(X2_train[1].values, X2_test[1].values)\n",
        "#print('Hello')\n",
        "#with open('Data/allDistanceT.csv') as csvfile:\n",
        "#    d = list(csv.reader(csvfile, delimiter=','))\n",
        "\n",
        "for indx in range(n1):\n",
        "  d=numpy.zeros(n2)\n",
        "  for j in range(n2):\n",
        "    #d[j] = distance.euclidean(encoded_train[j], encoded_test[indx])\n",
        "    d[j] = distance.euclidean(X22_train[indx].astype(float), X22_test[j].astype(float))\n",
        "\n",
        "  ind=d.argsort()\n",
        "\n",
        "  #classID=23\n",
        "  allSum=0\n",
        "  for classID in range(20): \n",
        "    sum1=0\n",
        "    sum2=0\n",
        "    k=0\n",
        "    l=0\n",
        "    while(k<kNN):\n",
        "    #print(encoded_test[i])\n",
        "      if(y22_test[ind[l]]==classID and y22_test[ind[l]]!=y22_train[indx][0]):\n",
        "        #d = distance.euclidean(encoded_train[ind[k]], encoded_test[indx])\n",
        "        d1 = d[ind[l]]\n",
        "        #d = distance.euclidean(X2_train[ind[k]].astype(float), X2_test[indx].astype(float))\n",
        "        sum1=sum1+np.exp(-d1)\n",
        "        k=k+1\n",
        "        l=l+1\n",
        "      elif(y22_test[ind[l]]!=y22_train[indx][0]) :\n",
        "        #d = distance.euclidean(encoded_train[ind[k]], encoded_test[indx])\n",
        "        d2 = d[ind[l]]\n",
        "        #d = distance.euclidean(X2_train[ind[k]].astype(float), X2_test[indx].astype(float))\n",
        "        sum2=sum2+np.exp(-d2)\n",
        "        k=k+1\n",
        "        l=l+1\n",
        "      else:\n",
        "        l=l+1\n",
        "\n",
        "    if(classID!=y22_train[indx][0]):\n",
        "      sum[classID]=sum1/(sum1+sum2)\n",
        "    else:\n",
        "     sum[classID]=-1\n",
        " \n",
        "  #allSum=allSum+(sum1/(sum1+sum2))\n",
        "  sumsort=sum.argsort()\n",
        "  allSort2[indx]=sumsort\n",
        "  #print(sumsort)\n",
        "  \n",
        "  if(y22_train[indx][0]==sumsort[19]):\n",
        "     count=count+1;\n",
        " #print(y2Te[indx])\n",
        " #print(count)\n",
        "\n",
        "print((count/1000)*100)"
      ],
      "execution_count": null,
      "outputs": [
        {
          "output_type": "stream",
          "text": [
            "0.0\n"
          ],
          "name": "stdout"
        }
      ]
    },
    {
      "cell_type": "code",
      "metadata": {
        "id": "LyiIYeXw_2EK"
      },
      "source": [
        "# writing to csv file  \n",
        "with open('Data/predNeighboT.csv', 'w') as csvfile:  \n",
        "    # creating a csv writer object  \n",
        "    csvwriter = csv.writer(csvfile)          \n",
        "    # writing the data rows  \n",
        "    csvwriter.writerows(allSort2) "
      ],
      "execution_count": null,
      "outputs": []
    },
    {
      "cell_type": "code",
      "metadata": {
        "id": "BXqXbOVXR8KO"
      },
      "source": [
        "#[Auixiliary data]: Comparison the output of NN and k-NN\n",
        "X22_train=Classfier2.predict(X2_train)\n",
        "n1,m1=X22_train.shape\n",
        "rank=20\n",
        "orgNeighbor=np.zeros([n1,20], dtype=float)\n",
        "predNeighbor=np.zeros([n1,20], dtype=float)\n",
        "\n",
        "orgNeighbor1=np.zeros([n1,5], dtype=float)\n",
        "predNeighbor1=np.zeros([n1,5], dtype=float)\n",
        "\n",
        "orgNeighbor2=np.zeros([n1,10], dtype=float)\n",
        "predNeighbor2=np.zeros([n1,10], dtype=float)\n",
        "\n",
        "predNeighbor=allSort2\n",
        "for i in range(n1):\n",
        "  orgNeighbor[i]=X22_train[i].argsort()[-rank:][::-1]\n",
        "\n",
        "for i in range(n1):\n",
        "   for j in range(1,6):\n",
        "    orgNeighbor1[i][j-1]=orgNeighbor[i][j]\n",
        "    predNeighbor1[i][j-1]=predNeighbor[i][20-j] \n",
        "\n",
        "for i in range(n1):\n",
        "   for j in range(1,11):\n",
        "    orgNeighbor2[i][j-1]=orgNeighbor[i][j]\n",
        "    predNeighbor2[i][j-1]=predNeighbor[i][20-j] \n",
        "\n",
        "#print(orgNeighbor[0:1])\n",
        "#print(predNeighbor[0:1])"
      ],
      "execution_count": null,
      "outputs": []
    },
    {
      "cell_type": "code",
      "metadata": {
        "id": "6o6tiD6YC1C-"
      },
      "source": [
        "# writing to csv file  \n",
        "with open('Data/orgNeighborT.csv', 'w') as csvfile:  \n",
        "    # creating a csv writer object  \n",
        "    csvwriter = csv.writer(csvfile)          \n",
        "    # writing the data rows  \n",
        "    csvwriter.writerows(orgNeighbor)"
      ],
      "execution_count": null,
      "outputs": []
    },
    {
      "cell_type": "code",
      "metadata": {
        "id": "TJ81eYr3sfSS"
      },
      "source": [
        "#[Auixiliary data]: Comparison the output of NN and k-NN\n",
        "commonSize1=np.zeros(n1)\n",
        "commonSize2=np.zeros(n1)\n",
        "\n",
        "for i in range(n1):\n",
        "  orgNeighborSet1=set(orgNeighbor1[i])\n",
        "  predNeighborSet1=set(predNeighbor1[i])\n",
        "  common1 = orgNeighborSet1.intersection(predNeighborSet1)\n",
        "  commonSize1[i]=len(common1)\n",
        "\n",
        "  orgNeighborSet2=set(orgNeighbor2[i])\n",
        "  predNeighborSet2=set(predNeighbor2[i])\n",
        "  common2 = orgNeighborSet2.intersection(predNeighborSet2)\n",
        "  commonSize2[i]=len(common2)\n",
        "\n",
        "#print(commonSize)"
      ],
      "execution_count": null,
      "outputs": []
    },
    {
      "cell_type": "code",
      "metadata": {
        "id": "grgTejaxv5P1",
        "colab": {
          "base_uri": "https://localhost:8080/",
          "height": 279
        },
        "outputId": "d2d63080-d593-4443-da29-97774f519c63"
      },
      "source": [
        "#[Auixiliary data]: Comparison the output of NN and k-NN\n",
        "import matplotlib.pyplot as plt\n",
        "X=np.arange(0, n1, 1).tolist()\n",
        "xlocs, xlabs = plt.xticks()\n",
        "xlabs=[i for i in range(0,10)]\n",
        "x_pos = [i for i, _ in enumerate(xlabs)] \n",
        "Y1=commonSize1\n",
        "Y2=commonSize2\n",
        "plt.hist([Y1,Y2])\n",
        "plt.legend(['Top 5 neighbor classes','Top 10 neighbor classes'])\n",
        "plt.ylabel('Frequency')\n",
        "plt.xlabel('Common class')\n",
        "plt.xlim(0,10)\n",
        "plt.ylim(0,11500)\n",
        "plt.xticks(x_pos, xlabs)\n",
        "#legend = plt.legend(loc='best', shadow=True)\n",
        "plt.show()"
      ],
      "execution_count": null,
      "outputs": [
        {
          "output_type": "display_data",
          "data": {
            "image/png": "[encoded data removed]",
            "text/plain": [
              "<Figure size 432x288 with 1 Axes>"
            ]
          },
          "metadata": {
            "tags": [],
            "needs_background": "light"
          }
        }
      ]
    },
    {
      "cell_type": "code",
      "metadata": {
        "id": "PFJInlEb0Ysm",
        "colab": {
          "base_uri": "https://localhost:8080/",
          "height": 204
        },
        "outputId": "0b8a30ac-6c82-41f1-c0d3-e1e3b11d6a01"
      },
      "source": [
        "#print some output\n",
        "print(y22_train[0:5,0])\n",
        "print(allSort2[0:5])"
      ],
      "execution_count": null,
      "outputs": [
        {
          "output_type": "stream",
          "text": [
            "[14.  4. 13. 13.  1.]\n",
            "[[14.  8. 11. 19. 16. 17. 10.  4. 15.  7.  9.  2. 12.  0.  1.  6.  3. 18.\n",
            "   5. 13.]\n",
            " [ 4. 17. 16. 10.  7.  0.  9. 11.  5. 15. 12. 18.  3.  6.  1. 14.  2.  8.\n",
            "  19. 13.]\n",
            " [13. 17. 11.  3. 16.  8.  0. 18. 19. 10.  4.  7. 15.  9.  2.  1.  5.  6.\n",
            "  12. 14.]\n",
            " [13. 11. 18.  8. 17.  3.  0. 19.  4. 10. 15.  7. 16.  9.  1.  2.  6. 12.\n",
            "   5. 14.]\n",
            " [ 1. 19. 17.  3.  4. 16. 11. 10.  7.  9.  5.  0. 18.  2. 15. 14. 12.  6.\n",
            "   8. 13.]]\n"
          ],
          "name": "stdout"
        }
      ]
    },
    {
      "cell_type": "code",
      "metadata": {
        "id": "3GPCd-fY0p2x"
      },
      "source": [
        "#Take 4 neighbor of top-ranked class\n",
        "for i in range(n1):\n",
        "  y22_train[i][1]=allSort2[i][19]\n",
        "  y22_train[i][2]=allSort2[i][18]\n",
        "  y22_train[i][3]=allSort2[i][17]\n",
        "  y22_train[i][4]=allSort2[i][16]\n"
      ],
      "execution_count": null,
      "outputs": []
    },
    {
      "cell_type": "code",
      "metadata": {
        "id": "4XlqeouJ1Tpk"
      },
      "source": [
        "#Fillup the table by 4 different probability based on neighborness\n",
        "import numpy as np\n",
        "import random\n",
        "\n",
        "rank=5\n",
        "n,m=X22_train.shape\n",
        "X2_InvTrain = np.zeros([n, m], dtype=float)\n",
        "for i in range(n):\n",
        " sumP=0\n",
        " start=0\n",
        " end=1\n",
        " for j in range(rank):\n",
        "  if(j==0):\n",
        "    X2_InvTrain[i,int(y22_train[i][j])]= X22_train[i, int(y22_train[i][j])]\n",
        "    sumP+=X22_train[i, int(y22_train[i][j])]\n",
        "  else:\n",
        "    X2_InvTrain[i,int(y22_train[i][j])]=random.uniform(start, end)\n",
        "    sumP+=X2_InvTrain[i,int(y22_train[i][j])]\n",
        "    #print(X2_InvTrain[i,int(y22_train[i][j])])\n",
        "  remaining=1-sumP\n",
        "  #remaining=1-sum(X2_InvTrain[i])\n",
        "  end=remaining\n",
        "    #print(end)\n",
        "  if(end >=0.1):\n",
        "   start=end-0.1\n",
        "  else:\n",
        "   start=0\n",
        "    #print(indx)\n",
        "    \n",
        "    #print(y1_Rand[i,indx])"
      ],
      "execution_count": null,
      "outputs": []
    },
    {
      "cell_type": "code",
      "metadata": {
        "id": "NdrWCcCQ11yn",
        "colab": {
          "base_uri": "https://localhost:8080/",
          "height": 102
        },
        "outputId": "a044fde7-1985-4364-c800-bc5ce140a91d"
      },
      "source": [
        "#print one of the probablity\n",
        "print(X2_InvTrain[0])"
      ],
      "execution_count": null,
      "outputs": [
        {
          "output_type": "stream",
          "text": [
            "[0.00000000e+00 0.00000000e+00 0.00000000e+00 7.74989436e-10\n",
            " 0.00000000e+00 1.05528785e-05 0.00000000e+00 0.00000000e+00\n",
            " 0.00000000e+00 0.00000000e+00 0.00000000e+00 0.00000000e+00\n",
            " 0.00000000e+00 5.33333472e-05 9.99936104e-01 0.00000000e+00\n",
            " 0.00000000e+00 0.00000000e+00 6.79433359e-09 0.00000000e+00]\n"
          ],
          "name": "stdout"
        }
      ]
    },
    {
      "cell_type": "code",
      "metadata": {
        "id": "BHN0URJV2Azc",
        "colab": {
          "base_uri": "https://localhost:8080/",
          "height": 697
        },
        "outputId": "3a47e10b-edd5-426b-f12e-7fb536be3138"
      },
      "source": [
        "#Create a [inverse classifier]\n",
        "def create_Invclassifier(Tuser=41):\n",
        "  Invclassifier = Sequential()\n",
        "  Invclassifier.add(Dense(64, input_dim=Tuser))\n",
        "  Invclassifier.add(BatchNormalization())\n",
        "  Invclassifier.add(Activation('tanh'))\n",
        "\n",
        "  Invclassifier.add(Dense(128))\n",
        "  Invclassifier.add(BatchNormalization())\n",
        "  Invclassifier.add(Activation('tanh'))\n",
        "\n",
        "  Invclassifier.add(Dense(256))\n",
        "  Invclassifier.add(BatchNormalization())\n",
        "  Invclassifier.add(Activation('tanh'))\n",
        "\n",
        "  #Invclassifier.add(Dense(256))\n",
        "  #Invclassifier.add(BatchNormalization())\n",
        "  #Invclassifier.add(Activation('tanh'))\n",
        "\n",
        "  Invclassifier.add(Dense(128))\n",
        "  Invclassifier.add(BatchNormalization())\n",
        "  Invclassifier.add(Activation('tanh'))\n",
        "\n",
        "  Invclassifier.add(Dense(64))\n",
        "  Invclassifier.add(BatchNormalization())\n",
        "  Invclassifier.add(Activation('tanh'))\n",
        "\n",
        "  Invclassifier.add(Dense(30,activation='sigmoid'))\n",
        "\n",
        "  Invclassifier.compile(loss='mse', optimizer=adam_optimizer())\n",
        "  return Invclassifier\n",
        "\n",
        "InvClsf=create_Invclassifier()\n",
        "InvClsf.summary()"
      ],
      "execution_count": null,
      "outputs": [
        {
          "output_type": "stream",
          "text": [
            "Model: \"sequential_5\"\n",
            "_________________________________________________________________\n",
            "Layer (type)                 Output Shape              Param #   \n",
            "=================================================================\n",
            "dense_25 (Dense)             (None, 64)                2688      \n",
            "_________________________________________________________________\n",
            "batch_normalization_21 (Batc (None, 64)                256       \n",
            "_________________________________________________________________\n",
            "activation_21 (Activation)   (None, 64)                0         \n",
            "_________________________________________________________________\n",
            "dense_26 (Dense)             (None, 128)               8320      \n",
            "_________________________________________________________________\n",
            "batch_normalization_22 (Batc (None, 128)               512       \n",
            "_________________________________________________________________\n",
            "activation_22 (Activation)   (None, 128)               0         \n",
            "_________________________________________________________________\n",
            "dense_27 (Dense)             (None, 256)               33024     \n",
            "_________________________________________________________________\n",
            "batch_normalization_23 (Batc (None, 256)               1024      \n",
            "_________________________________________________________________\n",
            "activation_23 (Activation)   (None, 256)               0         \n",
            "_________________________________________________________________\n",
            "dense_28 (Dense)             (None, 128)               32896     \n",
            "_________________________________________________________________\n",
            "batch_normalization_24 (Batc (None, 128)               512       \n",
            "_________________________________________________________________\n",
            "activation_24 (Activation)   (None, 128)               0         \n",
            "_________________________________________________________________\n",
            "dense_29 (Dense)             (None, 64)                8256      \n",
            "_________________________________________________________________\n",
            "batch_normalization_25 (Batc (None, 64)                256       \n",
            "_________________________________________________________________\n",
            "activation_25 (Activation)   (None, 64)                0         \n",
            "_________________________________________________________________\n",
            "dense_30 (Dense)             (None, 30)                1950      \n",
            "=================================================================\n",
            "Total params: 89,694\n",
            "Trainable params: 88,414\n",
            "Non-trainable params: 1,280\n",
            "_________________________________________________________________\n"
          ],
          "name": "stdout"
        }
      ]
    },
    {
      "cell_type": "code",
      "metadata": {
        "id": "kL76HVgJ2IL_",
        "colab": {
          "base_uri": "https://localhost:8080/",
          "height": 1000
        },
        "outputId": "55b39209-4dc0-46d7-9d52-7c462634a441"
      },
      "source": [
        "#Train the inverse classifier by using [auxilary profiles]\n",
        "#Fist give the data to the classifier and then fillup its probablity \n",
        "import keras\n",
        "\n",
        "from keras.datasets import mnist\n",
        "from keras.models import Model\n",
        "from keras.layers import Input, Conv2D, MaxPooling2D, Flatten, Dense, UpSampling2D\n",
        "from keras.optimizers import SGD, RMSprop, Adam\n",
        "from keras.callbacks import ReduceLROnPlateau\n",
        "\n",
        "learning_rate_reduction = ReduceLROnPlateau(monitor='val_acc', patience=5, verbose=1, factor=0.5,min_lr=0.0001)\n",
        "callbacks_list = [learning_rate_reduction]\n",
        "\n",
        "InvClsfI1=create_Invclassifier(20)\n",
        "\n",
        "#------Comment will start from here\n",
        "lossc='mse'\n",
        "optimizerc=RMSprop(lr=0.001, rho=0.9)\n",
        "InvClsfI1.compile(loss=lossc, optimizer=optimizerc)\n",
        "#------Comments will end from here\n",
        "historyc3 =  InvClsfI1.fit(X2_InvTrain, X2_train, batch_size=64, epochs=50,verbose=1, callbacks=callbacks_list)"
      ],
      "execution_count": null,
      "outputs": [
        {
          "output_type": "stream",
          "text": [
            "Epoch 1/50\n",
            "25599/25599 [==============================] - 3s 108us/step - loss: 0.0246\n",
            "Epoch 2/50\n",
            " 2112/25599 [=>............................] - ETA: 1s - loss: 0.0118"
          ],
          "name": "stdout"
        },
        {
          "output_type": "stream",
          "text": [
            "/usr/local/lib/python3.6/dist-packages/keras/callbacks/callbacks.py:1042: RuntimeWarning: Reduce LR on plateau conditioned on metric `val_acc` which is not available. Available metrics are: loss,lr\n",
            "  (self.monitor, ','.join(list(logs.keys()))), RuntimeWarning\n"
          ],
          "name": "stderr"
        },
        {
          "output_type": "stream",
          "text": [
            "25599/25599 [==============================] - 2s 79us/step - loss: 0.0117\n",
            "Epoch 3/50\n",
            "25599/25599 [==============================] - 2s 79us/step - loss: 0.0112\n",
            "Epoch 4/50\n",
            "25599/25599 [==============================] - 2s 80us/step - loss: 0.0110\n",
            "Epoch 5/50\n",
            "25599/25599 [==============================] - 2s 78us/step - loss: 0.0108\n",
            "Epoch 6/50\n",
            "25599/25599 [==============================] - 2s 79us/step - loss: 0.0106\n",
            "Epoch 7/50\n",
            "25599/25599 [==============================] - 2s 79us/step - loss: 0.0105\n",
            "Epoch 8/50\n",
            "25599/25599 [==============================] - 2s 78us/step - loss: 0.0104\n",
            "Epoch 9/50\n",
            "25599/25599 [==============================] - 2s 78us/step - loss: 0.0103\n",
            "Epoch 10/50\n",
            "25599/25599 [==============================] - 2s 79us/step - loss: 0.0102\n",
            "Epoch 11/50\n",
            "25599/25599 [==============================] - 2s 78us/step - loss: 0.0102\n",
            "Epoch 12/50\n",
            "25599/25599 [==============================] - 2s 78us/step - loss: 0.0101\n",
            "Epoch 13/50\n",
            "25599/25599 [==============================] - 2s 78us/step - loss: 0.0100\n",
            "Epoch 14/50\n",
            "25599/25599 [==============================] - 2s 77us/step - loss: 0.0100\n",
            "Epoch 15/50\n",
            "25599/25599 [==============================] - 2s 79us/step - loss: 0.0099\n",
            "Epoch 16/50\n",
            "25599/25599 [==============================] - 2s 79us/step - loss: 0.0099\n",
            "Epoch 17/50\n",
            "25599/25599 [==============================] - 2s 77us/step - loss: 0.0098\n",
            "Epoch 18/50\n",
            "25599/25599 [==============================] - 2s 80us/step - loss: 0.0098\n",
            "Epoch 19/50\n",
            "25599/25599 [==============================] - 2s 80us/step - loss: 0.0098\n",
            "Epoch 20/50\n",
            "25599/25599 [==============================] - 2s 80us/step - loss: 0.0097\n",
            "Epoch 21/50\n",
            "25599/25599 [==============================] - 2s 78us/step - loss: 0.0097\n",
            "Epoch 22/50\n",
            "25599/25599 [==============================] - 2s 78us/step - loss: 0.0097\n",
            "Epoch 23/50\n",
            "25599/25599 [==============================] - 2s 78us/step - loss: 0.0096\n",
            "Epoch 24/50\n",
            "25599/25599 [==============================] - 2s 80us/step - loss: 0.0096\n",
            "Epoch 25/50\n",
            "25599/25599 [==============================] - 2s 79us/step - loss: 0.0096\n",
            "Epoch 26/50\n",
            "25599/25599 [==============================] - 2s 79us/step - loss: 0.0095\n",
            "Epoch 27/50\n",
            "25599/25599 [==============================] - 2s 78us/step - loss: 0.0095\n",
            "Epoch 28/50\n",
            "25599/25599 [==============================] - 2s 78us/step - loss: 0.0095\n",
            "Epoch 29/50\n",
            "25599/25599 [==============================] - 2s 78us/step - loss: 0.0094\n",
            "Epoch 30/50\n",
            "25599/25599 [==============================] - 2s 80us/step - loss: 0.0095\n",
            "Epoch 31/50\n",
            "25599/25599 [==============================] - 2s 78us/step - loss: 0.0094\n",
            "Epoch 32/50\n",
            "25599/25599 [==============================] - 2s 79us/step - loss: 0.0094\n",
            "Epoch 33/50\n",
            "25599/25599 [==============================] - 2s 78us/step - loss: 0.0094\n",
            "Epoch 34/50\n",
            "25599/25599 [==============================] - 2s 78us/step - loss: 0.0093\n",
            "Epoch 35/50\n",
            "25599/25599 [==============================] - 2s 79us/step - loss: 0.0093\n",
            "Epoch 36/50\n",
            "25599/25599 [==============================] - 2s 78us/step - loss: 0.0093\n",
            "Epoch 37/50\n",
            "25599/25599 [==============================] - 2s 80us/step - loss: 0.0093\n",
            "Epoch 38/50\n",
            "25599/25599 [==============================] - 2s 79us/step - loss: 0.0093\n",
            "Epoch 39/50\n",
            "25599/25599 [==============================] - 2s 79us/step - loss: 0.0092\n",
            "Epoch 40/50\n",
            "25599/25599 [==============================] - 2s 80us/step - loss: 0.0092\n",
            "Epoch 41/50\n",
            "25599/25599 [==============================] - 2s 78us/step - loss: 0.0092\n",
            "Epoch 42/50\n",
            "25599/25599 [==============================] - 2s 81us/step - loss: 0.0092\n",
            "Epoch 43/50\n",
            "25599/25599 [==============================] - 2s 80us/step - loss: 0.0092\n",
            "Epoch 44/50\n",
            "25599/25599 [==============================] - 2s 80us/step - loss: 0.0092\n",
            "Epoch 45/50\n",
            "25599/25599 [==============================] - 2s 80us/step - loss: 0.0092\n",
            "Epoch 46/50\n",
            "25599/25599 [==============================] - 2s 79us/step - loss: 0.0091\n",
            "Epoch 47/50\n",
            "25599/25599 [==============================] - 2s 79us/step - loss: 0.0091\n",
            "Epoch 48/50\n",
            "25599/25599 [==============================] - 2s 81us/step - loss: 0.0091\n",
            "Epoch 49/50\n",
            "25599/25599 [==============================] - 2s 80us/step - loss: 0.0091\n",
            "Epoch 50/50\n",
            "25599/25599 [==============================] - 2s 80us/step - loss: 0.0090\n"
          ],
          "name": "stdout"
        }
      ]
    },
    {
      "cell_type": "code",
      "metadata": {
        "id": "3YKmOaBq2uJI",
        "colab": {
          "base_uri": "https://localhost:8080/",
          "height": 296
        },
        "outputId": "dc8d8906-41bb-443b-d1b9-46722422ec00"
      },
      "source": [
        "# Plot the classifier loss and accuracy curves for training and validation data\n",
        "import matplotlib.pyplot as plt\n",
        "plt.plot(historyc3.history['loss'], color='b', label=\"Training loss\")\n",
        "#plt.plot(historyc3.history['val_loss'], color='r',label=\"Validation loss\")\n",
        "legend = plt.legend(loc='best', shadow=True)\n",
        "plt.ylabel('loss')\n",
        "plt.xlabel('epochs')"
      ],
      "execution_count": null,
      "outputs": [
        {
          "output_type": "execute_result",
          "data": {
            "text/plain": [
              "Text(0.5, 0, 'epochs')"
            ]
          },
          "metadata": {
            "tags": []
          },
          "execution_count": 39
        },
        {
          "output_type": "display_data",
          "data": {
            "image/png": "[encoded data removed]",
            "text/plain": [
              "<Figure size 432x288 with 1 Axes>"
            ]
          },
          "metadata": {
            "tags": [],
            "needs_background": "light"
          }
        }
      ]
    },
    {
      "cell_type": "code",
      "metadata": {
        "id": "uTH09mI72mKa"
      },
      "source": [
        "#Calculate the distance among test data\n",
        "from scipy.spatial import distance\n",
        "import numpy\n",
        "n1,m1=X2_train.shape\n",
        "n2,m2=X2_test.shape\n",
        "\n",
        "y2T=array(y2T)\n",
        "y2Te=array(y2Te)\n",
        "X2_train=array(X2_train)\n",
        "X2_test=array(X2_test)\n",
        "kNN=250\n",
        "d=numpy.zeros((n2,n2))\n",
        "for i in range(n2):\n",
        "  for j in range(n2):\n",
        "    d[i][j] = distance.euclidean(X2_test[i].astype(float), X2_test[j].astype(float))"
      ],
      "execution_count": null,
      "outputs": []
    },
    {
      "cell_type": "code",
      "metadata": {
        "id": "hNFhEheYfHyp"
      },
      "source": [
        "# writing to csv file  \n",
        "with open('Data/allDistancesTestT.csv', 'w') as csvfile:  \n",
        "    # creating a csv writer object  \n",
        "    csvwriter = csv.writer(csvfile)          \n",
        "    # writing the data rows  \n",
        "    csvwriter.writerows(d)"
      ],
      "execution_count": null,
      "outputs": []
    },
    {
      "cell_type": "code",
      "metadata": {
        "id": "RUkvwplC24ZG",
        "colab": {
          "base_uri": "https://localhost:8080/",
          "height": 357
        },
        "outputId": "171f93bb-c420-4b94-e1af-d0b95bbdb78d"
      },
      "source": [
        "#Calculate the neighbor of original class based on auxilary profile\n",
        "from scipy.spatial import distance\n",
        "import numpy as np\n",
        "#encoded_train = encoder.predict(X2_train)\n",
        "#encoded_test = encoder.predict(X2_test)\n",
        "\n",
        "n1,m1=X2_train.shape\n",
        "n2,m2=X2_test.shape\n",
        "\n",
        "y2T=array(y2T)\n",
        "y2Te=array(y2Te)\n",
        "X2_train=array(X2_train)\n",
        "X2_test=array(X2_test)\n",
        "kNN=10\n",
        "count=0;\n",
        "\n",
        "#indx=2\n",
        "\n",
        "allSort2=numpy.zeros((n1,20))\n",
        "\n",
        "n1,m1=d.shape\n",
        "unique_elements, counts_elements = np.unique(y2Te, return_counts=True)\n",
        "RankDistance=numpy.zeros((unique_elements.size,unique_elements.size))\n",
        "RankTable=numpy.zeros((unique_elements.size,unique_elements.size))\n",
        "\n",
        "for classID1 in unique_elements:\n",
        "   CID1index=numpy.zeros(counts_elements[classID1])\n",
        "   n2=CID1index.size\n",
        "   print(n2)\n",
        "   indx=0\n",
        "   for i in range(n1):\n",
        "     if(y2Te[i]==classID1):\n",
        "       CID1index[indx]=i\n",
        "       indx=indx+1\n",
        "\n",
        "   for classID2 in unique_elements:\n",
        "     sumPUser=0\n",
        "     #print(sumPUser)\n",
        "     for eachIndx in range(n2):\n",
        "       #print(CID1index[eachIndx])  \n",
        "       ind=d[int(CID1index[eachIndx])].argsort() \n",
        "       sum1=0\n",
        "       sum2=0 \n",
        "       k=0 \n",
        "       l=0 \n",
        "       while (k<kNN and l<n2):\n",
        "         if(y22_test[ind[l]]!=classID1 and y22_test[ind[l]]==classID2):\n",
        "           #d = distance.euclidean(encoded_train[ind[k]], encoded_test[indx])\n",
        "           d1 = d[int(CID1index[eachIndx])][ind[l]]\n",
        "           #d = distance.euclidean(X2_train[ind[k]].astype(float), X2_test[indx].astype(float))\n",
        "           sum1=sum1+np.exp(-d1)\n",
        "           k=k+1\n",
        "           l=l+1\n",
        "         elif(y22_test[ind[l]]!=classID1) :\n",
        "           #d = distance.euclidean(encoded_train[ind[k]], encoded_test[indx])\n",
        "           d2 = d[int(CID1index[eachIndx])][ind[l]]\n",
        "           #d = distance.euclidean(X2_train[ind[k]].astype(float), X2_test[indx].astype(float))\n",
        "           sum2=sum2+np.exp(-d2)\n",
        "           k=k+1\n",
        "           l=l+1\n",
        "         else:\n",
        "           l=l+1\n",
        "       \n",
        "       sumPUser+= (sum1/(sum1+sum2))\n",
        "       #print(sumPUser)\n",
        "     #print(classID2)\n",
        "     RankDistance[classID1][classID2]=sumPUser/n2\n",
        "     #print(sumPUser/n2)\n",
        "   RankTable[classID1]=RankDistance[classID1].argsort()"
      ],
      "execution_count": null,
      "outputs": [
        {
          "output_type": "stream",
          "text": [
            "396\n",
            "399\n",
            "401\n",
            "399\n",
            "406\n",
            "400\n",
            "407\n",
            "394\n",
            "387\n",
            "377\n",
            "414\n",
            "416\n",
            "401\n",
            "423\n",
            "372\n",
            "420\n",
            "392\n",
            "410\n",
            "390\n",
            "396\n"
          ],
          "name": "stdout"
        }
      ]
    },
    {
      "cell_type": "code",
      "metadata": {
        "id": "dtOwHWNP3OsK",
        "colab": {
          "base_uri": "https://localhost:8080/",
          "height": 697
        },
        "outputId": "3e574256-4c9f-4bd8-8f16-3694c282dff9"
      },
      "source": [
        "#Print rank-table\n",
        "print(RankTable)"
      ],
      "execution_count": null,
      "outputs": [
        {
          "output_type": "stream",
          "text": [
            "[[ 0. 11. 13.  3.  8.  7. 18. 10. 14. 15. 12.  9.  4.  6. 19. 16.  1. 17.\n",
            "   2.  5.]\n",
            " [ 1. 11. 17. 10.  9. 16. 18.  7. 15. 13.  4.  8.  2.  5.  3. 12. 14.  0.\n",
            "  19.  6.]\n",
            " [ 2. 17. 11. 10.  9. 15. 16. 18.  0. 19.  3.  4.  5. 12.  7.  1.  8.  6.\n",
            "  13. 14.]\n",
            " [ 3.  9. 10. 17. 11. 18. 16.  7. 15.  8.  4.  0.  2. 12.  5. 19. 13. 14.\n",
            "   6.  1.]\n",
            " [ 4. 11. 15. 17. 16. 10.  9.  7. 12. 18.  8.  3. 13.  2.  5.  0. 14.  6.\n",
            "  19.  1.]\n",
            " [ 5. 10. 11. 17.  9. 16. 15.  8. 18.  7.  4. 19.  2. 13.  0.  1. 12.  3.\n",
            "  14.  6.]\n",
            " [ 6. 11. 10. 13.  3.  0. 14. 18.  9. 19. 15.  8. 16. 17.  7. 12.  4.  1.\n",
            "   2.  5.]\n",
            " [ 7. 11. 10.  9. 18. 17.  8. 15. 16.  4. 13.  3.  2. 14. 12.  0. 19.  5.\n",
            "   6.  1.]\n",
            " [ 8. 17. 10.  9. 16. 11.  0.  3. 18. 15.  2.  5. 19.  6.  1.  4. 12.  7.\n",
            "  14. 13.]\n",
            " [ 9. 11. 10. 17. 16.  7. 15. 18.  5.  8.  4.  2. 12.  1. 19.  0. 13. 14.\n",
            "   3.  6.]\n",
            " [10. 17.  9. 16. 18. 15. 11.  2. 19.  4.  0.  3. 12.  8.  7.  5.  1.  6.\n",
            "  14. 13.]\n",
            " [11. 10. 13.  9.  3.  0. 17.  5.  7.  1. 16. 14. 18. 15.  8.  2.  6. 19.\n",
            "  12.  4.]\n",
            " [12. 17. 11. 10.  9. 16.  2. 15. 18.  7.  0.  4.  3.  5.  8. 19.  6.  1.\n",
            "  14. 13.]\n",
            " [13. 11. 17.  7.  8. 10.  5. 16. 18.  9. 15.  4. 12.  2. 14. 19.  0.  3.\n",
            "   6.  1.]\n",
            " [14. 11. 10. 13.  0.  8.  3. 19. 18.  4.  9. 15.  6. 17.  7.  1. 12. 16.\n",
            "   2.  5.]\n",
            " [15. 11. 17. 10.  9. 18. 16.  3.  0. 19.  4.  2.  7.  5.  6.  8. 12.  1.\n",
            "  14. 13.]\n",
            " [16. 10.  0.  9. 17. 11. 18. 19.  3.  8. 13. 15. 14.  4.  5.  1.  6.  2.\n",
            "   7. 12.]\n",
            " [17. 11.  9. 10. 15. 18. 16.  4.  5.  7.  0. 19.  8. 13.  2.  3. 12. 14.\n",
            "   6.  1.]\n",
            " [18. 11. 17. 10. 15.  9. 16.  7. 12.  5.  8.  0.  3.  2. 13.  4.  1. 19.\n",
            "  14.  6.]\n",
            " [19. 10.  0.  9.  3. 11. 18. 15.  1.  6. 16. 17.  4.  8.  2.  5. 14. 13.\n",
            "   7. 12.]]\n"
          ],
          "name": "stdout"
        }
      ]
    },
    {
      "cell_type": "code",
      "metadata": {
        "id": "VxR5BNwp3Y7W"
      },
      "source": [
        "#Random generation of input for inverse classifier\n",
        "import numpy as np\n",
        "rank=5\n",
        "y22_train=Classfier2.predict(X1_train)\n",
        "y22_train=array(y22_train)\n",
        "n,m=y22_train.shape\n",
        "y1_Rand = np.zeros([n, m], dtype=float)\n",
        "\n",
        "for i in range(n):\n",
        " ind=y22_train[i].argsort()[-rank:][::-1]\n",
        " start=0.98\n",
        " end=1.0\n",
        " sumP=0\n",
        " for j in range(rank):\n",
        "  if(j==0):\n",
        "    np.put(y1_Rand[i], ind[0], random.uniform(start, end))\n",
        "    sumP+=y1_Rand[i,ind[0]]\n",
        "    #print(y1_Rand[i])\n",
        "  else:\n",
        "    indx=int(RankTable[ind[0],20-j])\n",
        "    y1_Rand[i,indx]=random.uniform(start, end)\n",
        "    sumP+=y1_Rand[i,indx]\n",
        "  remaining=1-sumP\n",
        "  end=remaining\n",
        "  #print(end)\n",
        "  if(end >=0.1):\n",
        "   start=end-0.1\n",
        "  else:\n",
        "   start=0"
      ],
      "execution_count": null,
      "outputs": []
    },
    {
      "cell_type": "code",
      "metadata": {
        "id": "PfOhOugl3m_q",
        "colab": {
          "base_uri": "https://localhost:8080/",
          "height": 102
        },
        "outputId": "39ae4412-4711-45ff-f686-695a4ab0ea97"
      },
      "source": [
        "#print random generated input\n",
        "print(y1_Rand[0])"
      ],
      "execution_count": null,
      "outputs": [
        {
          "output_type": "stream",
          "text": [
            "[0.00000000e+00 1.92516372e-04 9.93890884e-01 0.00000000e+00\n",
            " 3.36459312e-06 1.87430482e-06 5.21986316e-05 7.27826071e-05\n",
            " 1.87118936e-04 0.00000000e+00 0.00000000e+00 0.00000000e+00\n",
            " 6.74315001e-06 5.93957893e-05 5.52759932e-03 0.00000000e+00\n",
            " 0.00000000e+00 0.00000000e+00 0.00000000e+00 0.00000000e+00]\n"
          ],
          "name": "stdout"
        }
      ]
    },
    {
      "cell_type": "code",
      "metadata": {
        "id": "4fqU0bHN3xTw",
        "colab": {
          "base_uri": "https://localhost:8080/",
          "height": 68
        },
        "outputId": "3bf2d8b7-ae72-4e7a-db29-5fb0ae0f98d6"
      },
      "source": [
        "#Calculate the accuracy of data generated by inverse classifier\n",
        "#Input random generated probablity input to inverse classifier to get data sample\n",
        "#Input those data samples to the classifier\n",
        "X1_Rand=InvClsfI1.predict(y1_Rand)\n",
        "Classfier2.compile(loss='categorical_crossentropy', optimizer=Adam(),metrics=['accuracy'])\n",
        "loss, accuracy = Classfier2.evaluate(X1_Rand, y1_train)\n",
        "#print('Test score:', score)\n",
        "print('Loss:', loss)\n",
        "print('Accuracy:', accuracy)"
      ],
      "execution_count": null,
      "outputs": [
        {
          "output_type": "stream",
          "text": [
            "25599/25599 [==============================] - 1s 51us/step\n",
            "Loss: 7.449219951415799\n",
            "Accuracy: 0.2577444314956665\n"
          ],
          "name": "stdout"
        }
      ]
    },
    {
      "cell_type": "code",
      "metadata": {
        "id": "b3HY6fulqSY3",
        "colab": {
          "base_uri": "https://localhost:8080/",
          "height": 71
        },
        "outputId": "19de7e19-e848-4f8d-e5c3-d62c01d7eab3"
      },
      "source": [
        "from sklearn.metrics import classification_report\n",
        "\n",
        "Y_train = np.argmax(y1_train, axis=1)\n",
        "y_pred=Classfier2.predict_classes(X1_Rand)\n",
        "#print(keras.metrics.categorical_accuracy(y1_train, y_pred))\n",
        "allResult=classification_report(Y_train, y_pred)"
      ],
      "execution_count": null,
      "outputs": [
        {
          "output_type": "stream",
          "text": [
            "/usr/local/lib/python3.6/dist-packages/sklearn/metrics/_classification.py:1272: UndefinedMetricWarning: Precision and F-score are ill-defined and being set to 0.0 in labels with no predicted samples. Use `zero_division` parameter to control this behavior.\n",
            "  _warn_prf(average, modifier, msg_start, len(result))\n"
          ],
          "name": "stderr"
        }
      ]
    },
    {
      "cell_type": "code",
      "metadata": {
        "id": "pftXHrMrqaeP",
        "colab": {
          "base_uri": "https://localhost:8080/",
          "height": 476
        },
        "outputId": "ee0dafe2-0d4b-4e23-d6cb-e788cf4e5600"
      },
      "source": [
        "import ast\n",
        "print(allResult)"
      ],
      "execution_count": null,
      "outputs": [
        {
          "output_type": "stream",
          "text": [
            "              precision    recall  f1-score   support\n",
            "\n",
            "           0       0.33      0.52      0.40      1258\n",
            "           1       0.53      0.54      0.54      1287\n",
            "           2       0.35      0.88      0.50      1282\n",
            "           3       0.27      0.00      0.01      1293\n",
            "           4       0.58      0.21      0.31      1306\n",
            "           5       0.25      0.99      0.40      1280\n",
            "           6       0.78      0.98      0.87      1303\n",
            "           7       0.46      0.93      0.61      1296\n",
            "           8       0.96      0.88      0.92      1286\n",
            "           9       0.12      0.10      0.11      1300\n",
            "          10       0.00      0.00      0.00      1249\n",
            "          11       0.00      0.00      0.00      1248\n",
            "          12       1.00      0.00      0.00      1281\n",
            "          13       0.97      1.00      0.98      1240\n",
            "          14       0.97      0.97      0.97      1298\n",
            "          15       0.80      0.63      0.71      1290\n",
            "          16       0.11      0.02      0.03      1270\n",
            "          17       0.67      0.95      0.78      1273\n",
            "          18       0.01      0.00      0.00      1287\n",
            "          19       1.00      0.98      0.99      1272\n",
            "\n",
            "    accuracy                           0.53     25599\n",
            "   macro avg       0.51      0.53      0.46     25599\n",
            "weighted avg       0.51      0.53      0.46     25599\n",
            "\n"
          ],
          "name": "stdout"
        }
      ]
    },
    {
      "cell_type": "code",
      "metadata": {
        "id": "RaA8fmeGrgSJ",
        "colab": {
          "base_uri": "https://localhost:8080/",
          "height": 279
        },
        "outputId": "81151fed-bb81-40fc-c8f6-884ad7626d37"
      },
      "source": [
        "import matplotlib.pyplot as plt\n",
        "fig = plt.figure()\n",
        "#ax = fig.add_axes([0,0,10,1])\n",
        "listu=np.arange(0, 20, 1).tolist()\n",
        "accept = [0.52,0.54,0.88,0.00,0.21,0.99,0.98,0.93,0.88,0.10,0.00,0.00,0.00,1.00,0.97,0.63,0.02,0.95, 0.00,0.98] \n",
        "accept=np.array(accept) \n",
        "accept=100 *accept         \n",
        "plt.bar(listu,accept)\n",
        "plt.ylabel('percentage')\n",
        "plt.xlabel('user index')\n",
        "plt.xticks(range(0, 21,4))\n",
        "plt.show()"
      ],
      "execution_count": null,
      "outputs": [
        {
          "output_type": "display_data",
          "data": {
            "image/png": "[encoded data removed]",
            "text/plain": [
              "<Figure size 432x288 with 1 Axes>"
            ]
          },
          "metadata": {
            "tags": [],
            "needs_background": "light"
          }
        }
      ]
    }
  ]
}