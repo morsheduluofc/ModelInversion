{
  "nbformat": 4,
  "nbformat_minor": 0,
  "metadata": {
    "colab": {
      "name": "ModelInversionDAC.ipynb",
      "provenance": [],
      "collapsed_sections": []
    },
    "kernelspec": {
      "name": "python3",
      "display_name": "Python 3"
    }
  },
  "cells": [
    {
      "cell_type": "code",
      "metadata": {
        "id": "j3fV1s_YWnGc",
        "colab": {
          "base_uri": "https://localhost:8080/",
          "height": 34
        },
        "outputId": "a44af2de-27fa-4a11-8e57-8f2b0a5f294e"
      },
      "source": [
        "%tensorflow_version 1.x"
      ],
      "execution_count": null,
      "outputs": [
        {
          "output_type": "stream",
          "text": [
            "TensorFlow 1.x selected.\n"
          ],
          "name": "stdout"
        }
      ]
    },
    {
      "cell_type": "code",
      "metadata": {
        "id": "CISWqUwuWstp",
        "colab": {
          "base_uri": "https://localhost:8080/",
          "height": 34
        },
        "outputId": "2af89b56-b37a-4101-97ce-4dd075f934ce"
      },
      "source": [
        "#read all [194 users' oversampled data]\n",
        "import csv\n",
        "import pandas as pd\n",
        "with open('Data/AllOversampledNData.csv') as csvfile:\n",
        "    dataSet = list(csv.reader(csvfile, delimiter=','))\n",
        "dfdataSet = pd.DataFrame(dataSet[0:][:])\n",
        "dfdataSet.columns=['F1','F2','F3','F4','F5','F6','F7','F8','F9','F10','F11','F12','F13','F14','F15','F16','F17','F18','F19',\n",
        "            'F20','F21','F22','F23','F24','F25','F26','F27','F28','F29','F30','F31','F32','F33','F34','F35','F36','F37','F38','F39',\n",
        "            'F40','F41','F42','F43','F44','F45','F46','F47','F48','F49','F50','F51','F52','F53','F54','F55','F56','F57','F58','F59','F60',\n",
        "            'F61','F62','F63','F64','F65','ID']\n",
        "print('Done..')"
      ],
      "execution_count": null,
      "outputs": [
        {
          "output_type": "stream",
          "text": [
            "Done..\n"
          ],
          "name": "stdout"
        }
      ]
    },
    {
      "cell_type": "code",
      "metadata": {
        "id": "EAfnlSl3WyOX"
      },
      "source": [
        "#Include the data to [dataframe] and reset user id from [0 to 194]\n",
        "import numpy as np\n",
        "import random\n",
        "from sklearn.utils import shuffle\n",
        "columnsN=['F1','F2','F3','F4','F5','F6','F7','F8','F9','F10','F11','F12','F13','F14','F15','F16','F17','F18','F19',\n",
        "            'F20','F21','F22','F23','F24','F25','F26','F27','F28','F29','F30','F31','F32','F33','F34','F35','F36','F37','F38','F39',\n",
        "            'F40','F41','F42','F43','F44','F45','F46','F47','F48','F49','F50','F51','F52','F53','F54','F55','F56','F57','F58','F59','F60',\n",
        "            'F61','F62','F63','F64','F65','ID']\n",
        "columnsF=['F1','F2','F3','F4','F5','F6','F7','F8','F9','F10','F11','F12','F13','F14','F15','F16','F17','F18','F19',\n",
        "            'F20','F21','F22','F23','F24','F25','F26','F27','F28','F29','F30','F31','F32','F33','F34','F35','F36','F37','F38','F39',\n",
        "            'F40','F41','F42','F43','F44','F45','F46','F47','F48','F49','F50','F51','F52','F53','F54','F55','F56','F57','F58','F59','F60',\n",
        "            'F61','F62','F63','F64','F65']\n",
        "\n",
        "fdataSet = pd.DataFrame(columns = columnsN)\n",
        "\n",
        "#print(fdataSet)\n",
        "for i in range (0,195):\n",
        "  #fdataSet=fdataSet.append(shuffle(dfdataSet[1000*(i-1):i*1000]),ignore_index = True)\n",
        "  fdataSet=fdataSet.append(dfdataSet[1000*i:(i+1)*1000])\n",
        "\n",
        "fDataSet=fdataSet.drop(columns=['ID'])\n",
        "#fDataSet=standardize(fDataSet,columns=columnsF)\n",
        "\n",
        "fIDSet = pd.DataFrame(columns = ['ID'])\n",
        "fIDSet=fdataSet['ID']\n",
        "for i in range (0,195):\n",
        "  fIDSet[1000*i:(i+1)*1000]=i\n",
        "\n",
        "#fDataSet['ID'] = fIDSet"
      ],
      "execution_count": null,
      "outputs": []
    },
    {
      "cell_type": "code",
      "metadata": {
        "id": "rEVPhppeW5AV",
        "colab": {
          "base_uri": "https://localhost:8080/",
          "height": 221
        },
        "outputId": "2368b262-7139-4a2f-ce44-39b7dc884b03"
      },
      "source": [
        "#Print [user ID] of user\n",
        "fDataSet=fDataSet[1:]\n",
        "fIDSet=fIDSet[1:]\n",
        "print(fIDSet)"
      ],
      "execution_count": null,
      "outputs": [
        {
          "output_type": "stream",
          "text": [
            "1           0\n",
            "2           0\n",
            "3           0\n",
            "4           0\n",
            "5           0\n",
            "         ... \n",
            "194995    194\n",
            "194996    194\n",
            "194997    194\n",
            "194998    194\n",
            "194999    194\n",
            "Name: ID, Length: 194999, dtype: object\n"
          ],
          "name": "stdout"
        }
      ]
    },
    {
      "cell_type": "code",
      "metadata": {
        "id": "-VuurVaWXJni",
        "colab": {
          "base_uri": "https://localhost:8080/",
          "height": 34
        },
        "outputId": "a85d5b15-d75b-495c-97c5-6c8c7eeb24a8"
      },
      "source": [
        "#Seperate the data in two groups and then divided them to tranning set, validation set and test set for 194 users\n",
        "import numpy as np\n",
        "from numpy import array\n",
        "from keras.utils import to_categorical\n",
        "from sklearn.model_selection import train_test_split\n",
        "\n",
        "X1=fDataSet[:96999]\n",
        "y1=fIDSet[:96999]\n",
        "X2=fDataSet[97000:193999]\n",
        "y2=fIDSet[97000:193999]\n",
        "\n",
        "y2=y2-97\n",
        "#print(y1.shape)\n",
        "#print(X2)\n",
        "#print(y2)\n",
        "\n",
        "#Divide first 97 uses data in tranning set, validation set and test set for 97 users\n",
        "#X1_train, X1_test, y1_train, y1_test = train_test_split(X1, y1, test_size=0.30, random_state=22,stratify=y1)\n",
        "X1_train, X1_test, y1_train, y1_test = train_test_split(X1, y1, test_size=0.2, random_state=22)\n",
        "X1_train, X1_val, y1_train, y1_val = train_test_split(X1_train, y1_train, test_size=0.2, random_state=22)\n",
        "\n",
        "y1_train = to_categorical(y1_train)\n",
        "y1_val = to_categorical(y1_val)\n",
        "y1_test = to_categorical(y1_test)\n",
        "\n",
        "#Divide next 97 uses data in tranning set, validation set and test set for 97 users\n",
        "#X1_train, X1_test, y1_train, y1_test = train_test_split(X1, y1, test_size=0.30, random_state=22,stratify=y1)\n",
        "X2_train, X2_test, y2_train, y2_test = train_test_split(X2, y2, test_size=0.2, random_state=22)\n",
        "X2_train, X2_val, y2_train, y2_val = train_test_split(X2_train, y2_train, test_size=0.2, random_state=22)\n",
        "\n",
        "y2T=y2_train\n",
        "y2V=y2_val\n",
        "y2Te=y2_test\n",
        "\n",
        "y2_train = to_categorical(y2_train)\n",
        "y2_val = to_categorical(y2_val)\n",
        "y2_test = to_categorical(y2_test)"
      ],
      "execution_count": null,
      "outputs": [
        {
          "output_type": "stream",
          "text": [
            "Using TensorFlow backend.\n"
          ],
          "name": "stderr"
        }
      ]
    },
    {
      "cell_type": "code",
      "metadata": {
        "id": "ltI-QBP1X4gV",
        "colab": {
          "base_uri": "https://localhost:8080/",
          "height": 187
        },
        "outputId": "af4264ef-2770-48cd-b2d6-8a399cfe7599"
      },
      "source": [
        "print(array(y1_train)[7])\n",
        "print(array(y2_train)[7])"
      ],
      "execution_count": null,
      "outputs": [
        {
          "output_type": "stream",
          "text": [
            "[0. 0. 0. 0. 0. 0. 0. 0. 0. 0. 0. 0. 0. 0. 0. 0. 0. 0. 0. 0. 0. 0. 0. 0.\n",
            " 0. 0. 0. 0. 0. 0. 0. 0. 0. 0. 0. 0. 0. 0. 0. 0. 0. 0. 0. 0. 0. 0. 0. 0.\n",
            " 0. 0. 0. 0. 0. 0. 0. 0. 0. 0. 0. 0. 0. 0. 0. 1. 0. 0. 0. 0. 0. 0. 0. 0.\n",
            " 0. 0. 0. 0. 0. 0. 0. 0. 0. 0. 0. 0. 0. 0. 0. 0. 0. 0. 0. 0. 0. 0. 0. 0.\n",
            " 0.]\n",
            "[0. 0. 0. 0. 0. 0. 0. 0. 0. 0. 0. 0. 0. 0. 0. 0. 0. 0. 0. 0. 0. 0. 0. 0.\n",
            " 0. 0. 0. 0. 0. 0. 0. 0. 0. 0. 0. 0. 0. 0. 0. 0. 0. 0. 0. 0. 0. 0. 0. 0.\n",
            " 0. 0. 0. 0. 0. 0. 0. 0. 0. 0. 0. 0. 0. 0. 0. 1. 0. 0. 0. 0. 0. 0. 0. 0.\n",
            " 0. 0. 0. 0. 0. 0. 0. 0. 0. 0. 0. 0. 0. 0. 0. 0. 0. 0. 0. 0. 0. 0. 0. 0.\n",
            " 0.]\n"
          ],
          "name": "stdout"
        }
      ]
    },
    {
      "cell_type": "code",
      "metadata": {
        "id": "6iGpdOMvXRTD",
        "colab": {
          "base_uri": "https://localhost:8080/",
          "height": 68
        },
        "outputId": "4cbe41a4-8b04-489c-93a7-252e76fcafff"
      },
      "source": [
        "print(X2_train.shape)\n",
        "print(X2_val.shape)\n",
        "print(X2_test.shape)"
      ],
      "execution_count": null,
      "outputs": [
        {
          "output_type": "stream",
          "text": [
            "(62079, 65)\n",
            "(15520, 65)\n",
            "(19400, 65)\n"
          ],
          "name": "stdout"
        }
      ]
    },
    {
      "cell_type": "code",
      "metadata": {
        "id": "_BE9B_ecXXDl"
      },
      "source": [
        "#import all necessary package\n",
        "import numpy as np\n",
        "import pandas as pd\n",
        "import matplotlib.pyplot as plt\n",
        "#matplotlib inlineimport keras\n",
        "from keras.layers import Dense, Dropout, Input,Activation,Dropout, Flatten\n",
        "from keras.models import Model,Sequential\n",
        "from keras.datasets import mnist\n",
        "from tqdm import tqdm\n",
        "from keras.layers.advanced_activations import LeakyReLU\n",
        "from keras.layers import BatchNormalization\n",
        "from keras.optimizers import Adam\n",
        "import torch.nn.functional as F"
      ],
      "execution_count": null,
      "outputs": []
    },
    {
      "cell_type": "code",
      "metadata": {
        "id": "WvOt6rW1Xgt4"
      },
      "source": [
        "#define the optimizers\n",
        "from keras.optimizers import SGD, RMSprop, Adam\n",
        "def adam_optimizer():\n",
        "    return Adam(lr=0.0002, beta_1=0.5)\n",
        "\n",
        "def RMSprop_optimizer():\n",
        "    return RMSprop(lr=0.001, rho=0.9)"
      ],
      "execution_count": null,
      "outputs": []
    },
    {
      "cell_type": "code",
      "metadata": {
        "id": "UvPehA6PXp_p",
        "colab": {
          "base_uri": "https://localhost:8080/",
          "height": 666
        },
        "outputId": "721c7051-31a1-42b3-9c89-914d3ba563ae"
      },
      "source": [
        "#Construct a classifier for the initial experiments\n",
        "\n",
        "def create_classifier(release=False,Tuser=195):\n",
        "  classifier = Sequential()\n",
        "  classifier.add(Dense(128, input_dim=65))\n",
        "  classifier.add(BatchNormalization())\n",
        "  classifier.add(Activation('relu'))\n",
        "\n",
        "  #classifier.add(Dense(256))\n",
        "  #classifier.add(BatchNormalization())\n",
        "  #classifier.add(Activation('relu'))\n",
        "\n",
        "  classifier.add(Dense(256))\n",
        "  classifier.add(BatchNormalization())\n",
        "  classifier.add(Activation('relu'))\n",
        "\n",
        "  classifier.add(Dense(256))\n",
        "  classifier.add(BatchNormalization())\n",
        "  classifier.add(Activation('relu'))\n",
        "\n",
        "  #classifier.add(Dense(256))\n",
        "  #classifier.add(BatchNormalization())\n",
        "  #classifier.add(Activation('relu'))\n",
        "\n",
        "  classifier.add(Dense(128))\n",
        "  classifier.add(BatchNormalization())\n",
        "  classifier.add(Activation('relu'))\n",
        "\n",
        "  #if release:\n",
        "  classifier.add(Dense(Tuser, activation='softmax'))\n",
        "  #else:\n",
        "  #   classifier.add(Dense(Tuser))\n",
        "  #np.log_softmax_v2(a, axis=axis)\n",
        "  #classifier.add(F.softmax(a, dim=1))\n",
        "\n",
        "  classifier.compile(loss='categorical_crossentropy', optimizer=RMSprop_optimizer(),metrics=['accuracy'])\n",
        "  return classifier\n",
        "\n",
        "Clasf=create_classifier()\n",
        "Clasf.summary()"
      ],
      "execution_count": null,
      "outputs": [
        {
          "output_type": "stream",
          "text": [
            "WARNING:tensorflow:From /tensorflow-1.15.2/python3.6/tensorflow_core/python/ops/resource_variable_ops.py:1630: calling BaseResourceVariable.__init__ (from tensorflow.python.ops.resource_variable_ops) with constraint is deprecated and will be removed in a future version.\n",
            "Instructions for updating:\n",
            "If using Keras pass *_constraint arguments to layers.\n",
            "Model: \"sequential_1\"\n",
            "_________________________________________________________________\n",
            "Layer (type)                 Output Shape              Param #   \n",
            "=================================================================\n",
            "dense_1 (Dense)              (None, 128)               8448      \n",
            "_________________________________________________________________\n",
            "batch_normalization_1 (Batch (None, 128)               512       \n",
            "_________________________________________________________________\n",
            "activation_1 (Activation)    (None, 128)               0         \n",
            "_________________________________________________________________\n",
            "dense_2 (Dense)              (None, 256)               33024     \n",
            "_________________________________________________________________\n",
            "batch_normalization_2 (Batch (None, 256)               1024      \n",
            "_________________________________________________________________\n",
            "activation_2 (Activation)    (None, 256)               0         \n",
            "_________________________________________________________________\n",
            "dense_3 (Dense)              (None, 256)               65792     \n",
            "_________________________________________________________________\n",
            "batch_normalization_3 (Batch (None, 256)               1024      \n",
            "_________________________________________________________________\n",
            "activation_3 (Activation)    (None, 256)               0         \n",
            "_________________________________________________________________\n",
            "dense_4 (Dense)              (None, 128)               32896     \n",
            "_________________________________________________________________\n",
            "batch_normalization_4 (Batch (None, 128)               512       \n",
            "_________________________________________________________________\n",
            "activation_4 (Activation)    (None, 128)               0         \n",
            "_________________________________________________________________\n",
            "dense_5 (Dense)              (None, 195)               25155     \n",
            "=================================================================\n",
            "Total params: 168,387\n",
            "Trainable params: 166,851\n",
            "Non-trainable params: 1,536\n",
            "_________________________________________________________________\n"
          ],
          "name": "stdout"
        }
      ]
    },
    {
      "cell_type": "code",
      "metadata": {
        "id": "REoN2JVcX6aJ",
        "colab": {
          "base_uri": "https://localhost:8080/",
          "height": 1000
        },
        "outputId": "8466279c-6dca-40fa-a869-16b2f8d1dd6e"
      },
      "source": [
        "#Train the classifier seperately for black-box attack\n",
        "import keras\n",
        "\n",
        "from keras.datasets import mnist\n",
        "from keras.models import Model\n",
        "from keras.layers import Input, Conv2D, MaxPooling2D, Flatten, Dense, UpSampling2D\n",
        "from keras.optimizers import SGD, RMSprop, Adam\n",
        "from keras.callbacks import ReduceLROnPlateau\n",
        "\n",
        "learning_rate_reduction = ReduceLROnPlateau(monitor='val_acc', patience=5, verbose=1, factor=0.5,min_lr=0.0001)\n",
        "callbacks_list = [learning_rate_reduction]\n",
        "\n",
        "learning_rate_reduction = ReduceLROnPlateau(monitor='val_acc', patience=5, verbose=1, factor=0.5,min_lr=0.0001)\n",
        "callbacks_list = [learning_rate_reduction]\n",
        "\n",
        "Classfier2= create_classifier(True,97)\n",
        "\n",
        "#------Comment will start from here\n",
        "lossc='categorical_crossentropy'\n",
        "optimizerc=RMSprop(lr=0.001, rho=0.9)\n",
        "Classfier2.compile(loss=lossc, optimizer=optimizerc,metrics=['accuracy'])\n",
        "#------Comments will end from here\n",
        "historyc2 =  Classfier2.fit(X1_train, y1_train, batch_size=64, epochs=50, validation_data=(X1_val, y1_val),verbose=1, callbacks=callbacks_list)"
      ],
      "execution_count": null,
      "outputs": [
        {
          "output_type": "stream",
          "text": [
            "WARNING:tensorflow:From /usr/local/lib/python3.6/dist-packages/keras/backend/tensorflow_backend.py:422: The name tf.global_variables is deprecated. Please use tf.compat.v1.global_variables instead.\n",
            "\n",
            "Train on 62079 samples, validate on 15520 samples\n",
            "Epoch 1/50\n",
            "62079/62079 [==============================] - 9s 140us/step - loss: 1.5521 - accuracy: 0.4509 - val_loss: 1.1123 - val_accuracy: 0.5604\n",
            "Epoch 2/50\n",
            " 1600/62079 [..............................] - ETA: 6s - loss: 1.0711 - accuracy: 0.5713"
          ],
          "name": "stdout"
        },
        {
          "output_type": "stream",
          "text": [
            "/usr/local/lib/python3.6/dist-packages/keras/callbacks/callbacks.py:1042: RuntimeWarning: Reduce LR on plateau conditioned on metric `val_acc` which is not available. Available metrics are: val_loss,val_accuracy,loss,accuracy,lr\n",
            "  (self.monitor, ','.join(list(logs.keys()))), RuntimeWarning\n"
          ],
          "name": "stderr"
        },
        {
          "output_type": "stream",
          "text": [
            "62079/62079 [==============================] - 8s 125us/step - loss: 0.9408 - accuracy: 0.6289 - val_loss: 0.9003 - val_accuracy: 0.6545\n",
            "Epoch 3/50\n",
            "62079/62079 [==============================] - 8s 124us/step - loss: 0.6815 - accuracy: 0.7387 - val_loss: 0.6384 - val_accuracy: 0.7503\n",
            "Epoch 4/50\n",
            "62079/62079 [==============================] - 8s 125us/step - loss: 0.5162 - accuracy: 0.8063 - val_loss: 0.6306 - val_accuracy: 0.7613\n",
            "Epoch 5/50\n",
            "62079/62079 [==============================] - 8s 126us/step - loss: 0.4014 - accuracy: 0.8524 - val_loss: 0.4145 - val_accuracy: 0.8466\n",
            "Epoch 6/50\n",
            "62079/62079 [==============================] - 8s 124us/step - loss: 0.3305 - accuracy: 0.8806 - val_loss: 0.5391 - val_accuracy: 0.8203\n",
            "Epoch 7/50\n",
            "62079/62079 [==============================] - 8s 126us/step - loss: 0.2773 - accuracy: 0.8989 - val_loss: 0.4408 - val_accuracy: 0.8491\n",
            "Epoch 8/50\n",
            "62079/62079 [==============================] - 8s 127us/step - loss: 0.2433 - accuracy: 0.9126 - val_loss: 0.2870 - val_accuracy: 0.8967\n",
            "Epoch 9/50\n",
            "62079/62079 [==============================] - 8s 124us/step - loss: 0.2131 - accuracy: 0.9240 - val_loss: 0.2348 - val_accuracy: 0.9179\n",
            "Epoch 10/50\n",
            "62079/62079 [==============================] - 8s 126us/step - loss: 0.1961 - accuracy: 0.9295 - val_loss: 0.2170 - val_accuracy: 0.9218\n",
            "Epoch 11/50\n",
            "62079/62079 [==============================] - 8s 125us/step - loss: 0.1766 - accuracy: 0.9362 - val_loss: 0.2445 - val_accuracy: 0.9146\n",
            "Epoch 12/50\n",
            "62079/62079 [==============================] - 8s 130us/step - loss: 0.1615 - accuracy: 0.9417 - val_loss: 0.2975 - val_accuracy: 0.9052\n",
            "Epoch 13/50\n",
            "62079/62079 [==============================] - 8s 125us/step - loss: 0.1557 - accuracy: 0.9442 - val_loss: 0.2265 - val_accuracy: 0.9231\n",
            "Epoch 14/50\n",
            "62079/62079 [==============================] - 8s 129us/step - loss: 0.1452 - accuracy: 0.9489 - val_loss: 0.1603 - val_accuracy: 0.9459\n",
            "Epoch 15/50\n",
            "62079/62079 [==============================] - 8s 124us/step - loss: 0.1352 - accuracy: 0.9529 - val_loss: 0.2050 - val_accuracy: 0.9260\n",
            "Epoch 16/50\n",
            "62079/62079 [==============================] - 8s 128us/step - loss: 0.1272 - accuracy: 0.9551 - val_loss: 0.1559 - val_accuracy: 0.9468\n",
            "Epoch 17/50\n",
            "62079/62079 [==============================] - 8s 126us/step - loss: 0.1253 - accuracy: 0.9562 - val_loss: 0.1524 - val_accuracy: 0.9503\n",
            "Epoch 18/50\n",
            "62079/62079 [==============================] - 8s 127us/step - loss: 0.1218 - accuracy: 0.9576 - val_loss: 0.2004 - val_accuracy: 0.9365\n",
            "Epoch 19/50\n",
            "62079/62079 [==============================] - 8s 127us/step - loss: 0.1157 - accuracy: 0.9596 - val_loss: 0.1553 - val_accuracy: 0.9512\n",
            "Epoch 20/50\n",
            "62079/62079 [==============================] - 8s 125us/step - loss: 0.1078 - accuracy: 0.9627 - val_loss: 0.1897 - val_accuracy: 0.9409\n",
            "Epoch 21/50\n",
            "62079/62079 [==============================] - 8s 130us/step - loss: 0.1063 - accuracy: 0.9638 - val_loss: 0.1233 - val_accuracy: 0.9607\n",
            "Epoch 22/50\n",
            "62079/62079 [==============================] - 8s 132us/step - loss: 0.0968 - accuracy: 0.9661 - val_loss: 0.0863 - val_accuracy: 0.9710\n",
            "Epoch 23/50\n",
            "62079/62079 [==============================] - 8s 132us/step - loss: 0.0978 - accuracy: 0.9667 - val_loss: 0.1580 - val_accuracy: 0.9506\n",
            "Epoch 24/50\n",
            "62079/62079 [==============================] - 8s 131us/step - loss: 0.0914 - accuracy: 0.9682 - val_loss: 0.1700 - val_accuracy: 0.9483\n",
            "Epoch 25/50\n",
            "62079/62079 [==============================] - 8s 130us/step - loss: 0.0906 - accuracy: 0.9683 - val_loss: 0.1127 - val_accuracy: 0.9626\n",
            "Epoch 26/50\n",
            "62079/62079 [==============================] - 8s 129us/step - loss: 0.0891 - accuracy: 0.9693 - val_loss: 0.1025 - val_accuracy: 0.9684\n",
            "Epoch 27/50\n",
            "62079/62079 [==============================] - 8s 135us/step - loss: 0.0853 - accuracy: 0.9703 - val_loss: 0.1175 - val_accuracy: 0.9640\n",
            "Epoch 28/50\n",
            "62079/62079 [==============================] - 8s 128us/step - loss: 0.0862 - accuracy: 0.9708 - val_loss: 0.1072 - val_accuracy: 0.9667\n",
            "Epoch 29/50\n",
            "62079/62079 [==============================] - 8s 124us/step - loss: 0.0816 - accuracy: 0.9720 - val_loss: 0.1426 - val_accuracy: 0.9617\n",
            "Epoch 30/50\n",
            "62079/62079 [==============================] - 8s 125us/step - loss: 0.0796 - accuracy: 0.9724 - val_loss: 0.0804 - val_accuracy: 0.9760\n",
            "Epoch 31/50\n",
            "62079/62079 [==============================] - 8s 125us/step - loss: 0.0783 - accuracy: 0.9732 - val_loss: 0.1760 - val_accuracy: 0.9452\n",
            "Epoch 32/50\n",
            "62079/62079 [==============================] - 8s 127us/step - loss: 0.0742 - accuracy: 0.9751 - val_loss: 0.1318 - val_accuracy: 0.9633\n",
            "Epoch 33/50\n",
            "62079/62079 [==============================] - 8s 123us/step - loss: 0.0766 - accuracy: 0.9745 - val_loss: 0.1197 - val_accuracy: 0.9615\n",
            "Epoch 34/50\n",
            "62079/62079 [==============================] - 8s 127us/step - loss: 0.0765 - accuracy: 0.9737 - val_loss: 0.1103 - val_accuracy: 0.9684\n",
            "Epoch 35/50\n",
            "62079/62079 [==============================] - 8s 124us/step - loss: 0.0713 - accuracy: 0.9762 - val_loss: 0.0685 - val_accuracy: 0.9783\n",
            "Epoch 36/50\n",
            "62079/62079 [==============================] - 8s 125us/step - loss: 0.0725 - accuracy: 0.9751 - val_loss: 0.0845 - val_accuracy: 0.9745\n",
            "Epoch 37/50\n",
            "62079/62079 [==============================] - 8s 127us/step - loss: 0.0721 - accuracy: 0.9759 - val_loss: 0.0592 - val_accuracy: 0.9806\n",
            "Epoch 38/50\n",
            "62079/62079 [==============================] - 8s 123us/step - loss: 0.0708 - accuracy: 0.9762 - val_loss: 0.0707 - val_accuracy: 0.9767\n",
            "Epoch 39/50\n",
            "62079/62079 [==============================] - 8s 124us/step - loss: 0.0685 - accuracy: 0.9773 - val_loss: 0.1175 - val_accuracy: 0.9646\n",
            "Epoch 40/50\n",
            "62079/62079 [==============================] - 8s 125us/step - loss: 0.0675 - accuracy: 0.9773 - val_loss: 0.0747 - val_accuracy: 0.9767\n",
            "Epoch 41/50\n",
            "62079/62079 [==============================] - 8s 123us/step - loss: 0.0646 - accuracy: 0.9790 - val_loss: 0.0730 - val_accuracy: 0.9786\n",
            "Epoch 42/50\n",
            "62079/62079 [==============================] - 8s 123us/step - loss: 0.0613 - accuracy: 0.9793 - val_loss: 0.0628 - val_accuracy: 0.9796\n",
            "Epoch 43/50\n",
            "62079/62079 [==============================] - 8s 124us/step - loss: 0.0642 - accuracy: 0.9786 - val_loss: 0.0565 - val_accuracy: 0.9822\n",
            "Epoch 44/50\n",
            "62079/62079 [==============================] - 8s 125us/step - loss: 0.0598 - accuracy: 0.9794 - val_loss: 0.1058 - val_accuracy: 0.9693\n",
            "Epoch 45/50\n",
            "62079/62079 [==============================] - 8s 124us/step - loss: 0.0587 - accuracy: 0.9798 - val_loss: 0.0674 - val_accuracy: 0.9769\n",
            "Epoch 46/50\n",
            "62079/62079 [==============================] - 8s 123us/step - loss: 0.0608 - accuracy: 0.9803 - val_loss: 0.0806 - val_accuracy: 0.9771\n",
            "Epoch 47/50\n",
            "62079/62079 [==============================] - 8s 124us/step - loss: 0.0616 - accuracy: 0.9790 - val_loss: 0.0616 - val_accuracy: 0.9823\n",
            "Epoch 48/50\n",
            "62079/62079 [==============================] - 8s 124us/step - loss: 0.0600 - accuracy: 0.9803 - val_loss: 0.0787 - val_accuracy: 0.9782\n",
            "Epoch 49/50\n",
            "62079/62079 [==============================] - 8s 122us/step - loss: 0.0597 - accuracy: 0.9794 - val_loss: 0.0530 - val_accuracy: 0.9829\n",
            "Epoch 50/50\n",
            "62079/62079 [==============================] - 8s 126us/step - loss: 0.0577 - accuracy: 0.9805 - val_loss: 0.0760 - val_accuracy: 0.9792\n"
          ],
          "name": "stdout"
        }
      ]
    },
    {
      "cell_type": "code",
      "metadata": {
        "id": "UIDuDQkhguPN",
        "colab": {
          "base_uri": "https://localhost:8080/",
          "height": 297
        },
        "outputId": "7e7b23b5-04cb-4547-d4b0-b05dab5979d7"
      },
      "source": [
        "# Plot the classifier loss and accuracy curves for training and validation data\n",
        "import matplotlib.pyplot as plt\n",
        "plt.plot(historyc2.history['accuracy'], color='b', label=\"Training accuracy\")\n",
        "plt.plot(historyc2.history['val_accuracy'], color='r',label=\"Validation accuracy\")\n",
        "legend = plt.legend(loc='best', shadow=True)\n",
        "plt.ylabel('accuracy')\n",
        "plt.xlabel('epochs')"
      ],
      "execution_count": null,
      "outputs": [
        {
          "output_type": "execute_result",
          "data": {
            "text/plain": [
              "Text(0.5, 0, 'epochs')"
            ]
          },
          "metadata": {
            "tags": []
          },
          "execution_count": 12
        },
        {
          "output_type": "display_data",
          "data": {
            "image/png": "[encoded data removed]",
            "text/plain": [
              "<Figure size 432x288 with 1 Axes>"
            ]
          },
          "metadata": {
            "tags": [],
            "needs_background": "light"
          }
        }
      ]
    },
    {
      "cell_type": "code",
      "metadata": {
        "id": "o1OBjFl6YClq",
        "colab": {
          "base_uri": "https://localhost:8080/",
          "height": 68
        },
        "outputId": "1731274c-7b16-4953-8b57-b0ad33e37a3f"
      },
      "source": [
        "#Performance of the classifier\n",
        "Classfier2.compile(loss='categorical_crossentropy', optimizer=Adam(),metrics=['accuracy'])\n",
        "loss, accuracy = Classfier2.evaluate(X1_test, y1_test)\n",
        "#print('Test score:', score)\n",
        "print('Loss:', loss)\n",
        "print('Accuracy:', accuracy)"
      ],
      "execution_count": null,
      "outputs": [
        {
          "output_type": "stream",
          "text": [
            "19400/19400 [==============================] - 1s 63us/step\n",
            "Loss: 0.06950189665262348\n",
            "Accuracy: 0.9777835011482239\n"
          ],
          "name": "stdout"
        }
      ]
    },
    {
      "cell_type": "code",
      "metadata": {
        "id": "e6_nmsiIi1jq",
        "colab": {
          "base_uri": "https://localhost:8080/",
          "height": 68
        },
        "outputId": "8f6b10cf-9122-4509-a86f-3f9dceab65d3"
      },
      "source": [
        "#[Performance] of the classifier for first user group\n",
        "Classfier2.compile(loss='categorical_crossentropy', optimizer=Adam(),metrics=['accuracy'])\n",
        "loss, accuracy = Classfier2.evaluate(X2_train, y2_train)\n",
        "#print('Test score:', score)\n",
        "print('Loss:', loss)\n",
        "print('Accuracy:', accuracy)"
      ],
      "execution_count": null,
      "outputs": [
        {
          "output_type": "stream",
          "text": [
            "62079/62079 [==============================] - 4s 60us/step\n",
            "Loss: 44.73250299755235\n",
            "Accuracy: 0.010921567678451538\n"
          ],
          "name": "stdout"
        }
      ]
    },
    {
      "cell_type": "code",
      "metadata": {
        "id": "pC5E9bAcYAWy"
      },
      "source": [
        "#Input the data of [second users' group] to the classifier\n",
        "#Take only [top-ranked probability class index]\n",
        "import numpy as np\n",
        "rank=5\n",
        "X22_train=Classfier2.predict(X2_train)\n",
        "X22_test=Classfier2.predict(X2_test)\n",
        "n1,m1=X22_train.shape\n",
        "n2,m2=X22_test.shape\n",
        "\n",
        "y22_train = np.zeros([n1,5], dtype=float)\n",
        "y22_test = np.zeros([n2], dtype=float)\n",
        "\n",
        "\n",
        "for i in range(n1):\n",
        "  ind=X22_train[i].argsort()[-rank:][::-1]\n",
        "  y22_train[i][0]=ind[0]\n",
        "\n",
        "for i in range(n2):\n",
        "  ind=X22_test[i].argsort()[-rank:][::-1]\n",
        "  y22_test[i]=ind[0]"
      ],
      "execution_count": null,
      "outputs": []
    },
    {
      "cell_type": "code",
      "metadata": {
        "id": "5PgVzzpiB2O4"
      },
      "source": [
        "#Code for file read\n",
        "with open('Data/allSortedIndx.csv') as csvfile:\n",
        "    allSort2 = list(csv.reader(csvfile, delimiter=','))\n",
        "#allSort2=np.array(allSort2)\n",
        "#n1=allSort2.size\n",
        "#allSort22=np.zeros(int(n1/2))\n",
        "#indx=0\n",
        "#for i in range(n1):\n",
        "#  if(i%2==1):\n",
        "    #list.remove(allSort2[i])\n",
        "#     numpy.delete(allSort2,i)\n",
        "     #indx=indx+1"
      ],
      "execution_count": null,
      "outputs": []
    },
    {
      "cell_type": "code",
      "metadata": {
        "id": "LOC-jMjJZ975",
        "colab": {
          "base_uri": "https://localhost:8080/",
          "height": 34
        },
        "outputId": "8728ede9-c70d-4dc1-909b-79cff392d096"
      },
      "source": [
        "#Based on top-ranked probability value [group all test data in different classes]\n",
        "#Based on test data class and top-ranked probablity class of tranning sample\n",
        "#calculate neighbor of top-ranked probablity class by using Euclidean distance based approach\n",
        "\n",
        "from scipy.spatial import distance\n",
        "import numpy\n",
        "\n",
        "n1,m1=X2_train.shape\n",
        "n2,m2=X2_test.shape\n",
        "\n",
        "y2T=array(y2T)\n",
        "y2Te=array(y2Te)\n",
        "X2_train=array(X2_train)\n",
        "X2_test=array(X2_test)\n",
        "kNN=250\n",
        "count=0;\n",
        "\n",
        "#indx=2\n",
        "sum=numpy.zeros(97)\n",
        "allSort2=numpy.zeros((n1,97))\n",
        "\n",
        "#distance.euclidean(X2_train[1].values, X2_test[1].values)\n",
        "#print('Hello')\n",
        "#with open('Data/allDistanceT.csv') as csvfile:\n",
        "#    d = list(csv.reader(csvfile, delimiter=','))\n",
        "\n",
        "for indx in range(5):\n",
        "  d=numpy.zeros(n2)\n",
        "  for j in range(n2):\n",
        "    #d[j] = distance.euclidean(encoded_train[j], encoded_test[indx])\n",
        "    d[j] = distance.euclidean(X2_train[indx].astype(float), X2_test[j].astype(float))\n",
        "\n",
        "  ind=d.argsort()\n",
        "\n",
        "  #classID=23\n",
        "  allSum=0\n",
        "  for classID in range(97): \n",
        "    sum1=0\n",
        "    sum2=0\n",
        "    k=0\n",
        "    l=0\n",
        "    while(k<kNN):\n",
        "    #print(encoded_test[i])\n",
        "      if(y22_test[ind[l]]==classID and y22_test[ind[l]]!=y22_train[indx][0]):\n",
        "        #d = distance.euclidean(encoded_train[ind[k]], encoded_test[indx])\n",
        "        d1 = d[ind[l]]\n",
        "        #d = distance.euclidean(X2_train[ind[k]].astype(float), X2_test[indx].astype(float))\n",
        "        sum1=sum1+np.exp(-d1)\n",
        "        k=k+1\n",
        "        l=l+1\n",
        "      elif(y22_test[ind[l]]!=y22_train[indx][0]) :\n",
        "        #d = distance.euclidean(encoded_train[ind[k]], encoded_test[indx])\n",
        "        d2 = d[ind[l]]\n",
        "        #d = distance.euclidean(X2_train[ind[k]].astype(float), X2_test[indx].astype(float))\n",
        "        sum2=sum2+np.exp(-d2)\n",
        "        k=k+1\n",
        "        l=l+1\n",
        "      else:\n",
        "        l=l+1\n",
        "\n",
        "    if(classID!=y22_train[indx][0]):\n",
        "      sum[classID]=sum1/(sum1+sum2)\n",
        "    else:\n",
        "     sum[classID]=-1\n",
        " \n",
        "  #allSum=allSum+(sum1/(sum1+sum2))\n",
        "  sumsort=sum.argsort()\n",
        "  allSort2[indx]=sumsort\n",
        "  #print(sumsort)\n",
        "  \n",
        "  if(y22_train[indx][0]==sumsort[96]):\n",
        "     count=count+1;\n",
        " #print(y2Te[indx])\n",
        " #print(count)\n",
        "\n",
        "print((count/1000)*100)"
      ],
      "execution_count": null,
      "outputs": [
        {
          "output_type": "stream",
          "text": [
            "0.0\n"
          ],
          "name": "stdout"
        }
      ]
    },
    {
      "cell_type": "code",
      "metadata": {
        "id": "XbVtrvx5awqF"
      },
      "source": [
        "# writing to csv file  \n",
        "with open('Data/allSortedIndx1.csv', 'w') as csvfile:  \n",
        "    # creating a csv writer object  \n",
        "    csvwriter = csv.writer(csvfile)          \n",
        "    # writing the data rows  \n",
        "    csvwriter.writerows(allSort2)"
      ],
      "execution_count": null,
      "outputs": []
    },
    {
      "cell_type": "code",
      "metadata": {
        "id": "o5cxqucWCYfv"
      },
      "source": [
        "X22_train=Classfier2.predict(X2_train)\n",
        "n1,m1=X22_train.shape\n",
        "allSort2=np.array(allSort2)\n",
        "n2=allSort2.size\n",
        "\n",
        "rank=97\n",
        "orgNeighbor=np.zeros([n1,97], dtype=float)\n",
        "predNeighbor=np.zeros([n1,97], dtype=float)\n",
        "\n",
        "orgNeighbor1=np.zeros([n1,5], dtype=float)\n",
        "predNeighbor1=np.zeros([n1,5], dtype=float)\n",
        "\n",
        "orgNeighbor2=np.zeros([n1,10], dtype=float)\n",
        "predNeighbor2=np.zeros([n1,10], dtype=float)\n",
        "\n",
        "for i in range(n2):\n",
        "  if(i%2!=1):\n",
        "    predNeighbor[int(i/2)]=allSort2[i]\n",
        "\n",
        "\n",
        "for i in range(n1):\n",
        "  orgNeighbor[i]=X22_train[i].argsort()[-rank:][::-1]\n",
        "\n",
        "for i in range(n1):\n",
        "   for j in range(1,6):\n",
        "    orgNeighbor1[i][j-1]=orgNeighbor[i][j]\n",
        "    predNeighbor1[i][j-1]=predNeighbor[i][97-j]\n",
        "\n",
        "for i in range(n1):\n",
        "   for j in range(1,11):\n",
        "    orgNeighbor2[i][j-1]=orgNeighbor[i][j]\n",
        "    predNeighbor2[i][j-1]=predNeighbor[i][97-j]"
      ],
      "execution_count": null,
      "outputs": []
    },
    {
      "cell_type": "code",
      "metadata": {
        "id": "-pMhOINla0X9",
        "colab": {
          "base_uri": "https://localhost:8080/",
          "height": 71
        },
        "outputId": "7ac935d9-7e6f-4565-b9d6-a96f28e955e4"
      },
      "source": [
        "# writing to csv file  \n",
        "with open('Data/orgNeighborT.csv', 'w') as csvfile:  \n",
        "    # creating a csv writer object  \n",
        "    csvwriter = csv.writer(csvfile)          \n",
        "    # writing the data rows  \n",
        "    csvwriter.writerows(orgNeighbor)"
      ],
      "execution_count": null,
      "outputs": [
        {
          "output_type": "stream",
          "text": [
            "['8.0', '0.0', '70.0', '69.0', '68.0', '67.0', '66.0', '65.0', '64.0', '63.0', '62.0', '61.0', '60.0', '59.0', '58.0', '57.0', '56.0', '55.0', '54.0', '53.0', '52.0', '51.0', '71.0', '72.0', '73.0', '74.0', '94.0', '93.0', '92.0', '91.0', '90.0', '89.0', '88.0', '87.0', '86.0', '50.0', '85.0', '83.0', '82.0', '81.0', '80.0', '79.0', '78.0', '77.0', '76.0', '75.0', '84.0', '49.0', '48.0', '26.0', '95.0', '22.0', '21.0', '20.0', '19.0', '18.0', '17.0', '16.0', '15.0', '14.0', '13.0', '12.0', '11.0', '9.0', '7.0', '6.0', '5.0', '25.0', '4.0', '3.0', '28.0', '1.0', '44.0', '43.0', '42.0', '41.0', '40.0', '39.0', '27.0', '38.0', '34.0', '33.0', '32.0', '31.0', '30.0', '29.0', '2.0', '96.0', '10.0', '45.0', '37.0', '23.0', '35.0', '24.0', '47.0', '46.0', '36.0']\n",
            "36.0\n"
          ],
          "name": "stdout"
        }
      ]
    },
    {
      "cell_type": "code",
      "metadata": {
        "id": "DHsMWhY_F-30"
      },
      "source": [
        "commonSize1=np.zeros(n1)\n",
        "commonSize2=np.zeros(n1)\n",
        "\n",
        "for i in range(n1):\n",
        "  orgNeighborSet1=set(orgNeighbor1[i])\n",
        "  predNeighborSet1=set(predNeighbor1[i])\n",
        "  common1 = orgNeighborSet1.intersection(predNeighborSet1)\n",
        "  commonSize1[i]=len(common1)\n",
        "\n",
        "  orgNeighborSet2=set(orgNeighbor2[i])\n",
        "  predNeighborSet2=set(predNeighbor2[i])\n",
        "  common2 = orgNeighborSet2.intersection(predNeighborSet2)\n",
        "  commonSize2[i]=len(common2)\n",
        "\n",
        "#print(commonSize)"
      ],
      "execution_count": null,
      "outputs": []
    },
    {
      "cell_type": "code",
      "metadata": {
        "id": "kEkhHLK3GFrS",
        "colab": {
          "base_uri": "https://localhost:8080/",
          "height": 279
        },
        "outputId": "5293b2ab-3cad-4159-c3cc-c4de607f975b"
      },
      "source": [
        "import matplotlib.pyplot as plt\n",
        "X=np.arange(0, n1, 1).tolist()\n",
        "xlocs, xlabs = plt.xticks()\n",
        "xlabs=[i for i in range(0,10)]\n",
        "x_pos = [i for i, _ in enumerate(xlabs)] \n",
        "Y1=commonSize1\n",
        "Y2=commonSize2\n",
        "plt.hist([Y1,Y2])\n",
        "plt.legend(['Top 5 neighbor classes','Top 10 neighbor classes'])\n",
        "plt.ylabel('Frequency')\n",
        "plt.xlabel('Common class')\n",
        "plt.xlim(0,10)\n",
        "#plt.ylim(0,11500)\n",
        "plt.xticks(x_pos, xlabs)\n",
        "#legend = plt.legend(loc='best', shadow=True)\n",
        "plt.show()"
      ],
      "execution_count": null,
      "outputs": [
        {
          "output_type": "display_data",
          "data": {
            "image/png": "[encoded data removed]",
            "text/plain": [
              "<Figure size 432x288 with 1 Axes>"
            ]
          },
          "metadata": {
            "tags": [],
            "needs_background": "light"
          }
        }
      ]
    },
    {
      "cell_type": "code",
      "metadata": {
        "id": "g4PWqkVdUTrV"
      },
      "source": [
        "#Code for file read\n",
        "#Take 4 neighbor of top-ranked class\n",
        "allSort2=np.array(allSort2)\n",
        "n1=allSort2.size\n",
        "for i in range(n1):\n",
        "  if(i%2!=1):\n",
        "    y22_train[int(i/2)][1]=allSort2[i][96]\n",
        "    y22_train[int(i/2)][2]=allSort2[i][95]\n",
        "    y22_train[int(i/2)][3]=allSort2[i][94]\n",
        "    y22_train[int(i/2)][4]=allSort2[i][93]"
      ],
      "execution_count": null,
      "outputs": []
    },
    {
      "cell_type": "code",
      "metadata": {
        "id": "ScNTWHgda7Hu"
      },
      "source": [
        "#Take 4 neighbor of top-ranked class\n",
        "for i in range(n1):\n",
        "  y22_train[i][1]=allSort2[i][96]\n",
        "  y22_train[i][2]=allSort2[i][95]\n",
        "  y22_train[i][3]=allSort2[i][94]\n",
        "  y22_train[i][4]=allSort2[i][93]"
      ],
      "execution_count": null,
      "outputs": []
    },
    {
      "cell_type": "code",
      "metadata": {
        "id": "NTs-dvT3bJsd"
      },
      "source": [
        "#Fillup the table by 4 different probability based on neighborness\n",
        "import numpy as np\n",
        "import random\n",
        "\n",
        "rank=5\n",
        "n,m=X22_train.shape\n",
        "X2_InvTrain = np.zeros([n, m], dtype=float)\n",
        "for i in range(n):\n",
        " sumP=0\n",
        " start=0\n",
        " end=1\n",
        " for j in range(rank):\n",
        "  if(j==0):\n",
        "    X2_InvTrain[i,int(y22_train[i][j])]= X22_train[i, int(y22_train[i][j])]\n",
        "    sumP+=X22_train[i, int(y22_train[i][j])]\n",
        "  else:\n",
        "    X2_InvTrain[i,int(y22_train[i][j])]=random.uniform(start, end)\n",
        "    sumP+=X2_InvTrain[i,int(y22_train[i][j])]\n",
        "    #print(X2_InvTrain[i,int(y22_train[i][j])])\n",
        "  remaining=1-sumP\n",
        "  #remaining=1-sum(X2_InvTrain[i])\n",
        "  end=remaining\n",
        "    #print(end)\n",
        "  if(end >=0.1):\n",
        "   start=end-0.1\n",
        "  else:\n",
        "   start=0\n",
        "    #print(indx)\n",
        "    \n",
        "    #print(y1_Rand[i,indx])"
      ],
      "execution_count": null,
      "outputs": []
    },
    {
      "cell_type": "code",
      "metadata": {
        "id": "WbdpDZBqbx1P",
        "colab": {
          "base_uri": "https://localhost:8080/",
          "height": 442
        },
        "outputId": "8f33ad6c-bed5-463d-b470-54f8d7b87246"
      },
      "source": [
        "#print one of the probablity\n",
        "print(X2_InvTrain[0])"
      ],
      "execution_count": null,
      "outputs": [
        {
          "output_type": "stream",
          "text": [
            "[0.00000000e+00 0.00000000e+00 0.00000000e+00 0.00000000e+00\n",
            " 0.00000000e+00 0.00000000e+00 0.00000000e+00 0.00000000e+00\n",
            " 0.00000000e+00 0.00000000e+00 0.00000000e+00 0.00000000e+00\n",
            " 0.00000000e+00 0.00000000e+00 0.00000000e+00 0.00000000e+00\n",
            " 0.00000000e+00 0.00000000e+00 0.00000000e+00 0.00000000e+00\n",
            " 0.00000000e+00 0.00000000e+00 0.00000000e+00 0.00000000e+00\n",
            " 2.51944401e-04 0.00000000e+00 0.00000000e+00 0.00000000e+00\n",
            " 0.00000000e+00 0.00000000e+00 0.00000000e+00 0.00000000e+00\n",
            " 0.00000000e+00 0.00000000e+00 0.00000000e+00 0.00000000e+00\n",
            " 2.73829770e-04 9.99144197e-01 0.00000000e+00 0.00000000e+00\n",
            " 0.00000000e+00 0.00000000e+00 0.00000000e+00 0.00000000e+00\n",
            " 0.00000000e+00 0.00000000e+00 1.96737242e-04 8.51332642e-05\n",
            " 0.00000000e+00 0.00000000e+00 0.00000000e+00 0.00000000e+00\n",
            " 0.00000000e+00 0.00000000e+00 0.00000000e+00 0.00000000e+00\n",
            " 0.00000000e+00 0.00000000e+00 0.00000000e+00 0.00000000e+00\n",
            " 0.00000000e+00 0.00000000e+00 0.00000000e+00 0.00000000e+00\n",
            " 0.00000000e+00 0.00000000e+00 0.00000000e+00 0.00000000e+00\n",
            " 0.00000000e+00 0.00000000e+00 0.00000000e+00 0.00000000e+00\n",
            " 0.00000000e+00 0.00000000e+00 0.00000000e+00 0.00000000e+00\n",
            " 0.00000000e+00 0.00000000e+00 0.00000000e+00 0.00000000e+00\n",
            " 0.00000000e+00 0.00000000e+00 0.00000000e+00 0.00000000e+00\n",
            " 0.00000000e+00 0.00000000e+00 0.00000000e+00 0.00000000e+00\n",
            " 0.00000000e+00 0.00000000e+00 0.00000000e+00 0.00000000e+00\n",
            " 0.00000000e+00 0.00000000e+00 0.00000000e+00 0.00000000e+00\n",
            " 0.00000000e+00]\n"
          ],
          "name": "stdout"
        }
      ]
    },
    {
      "cell_type": "code",
      "metadata": {
        "id": "RVB9mn1ab0g-",
        "colab": {
          "base_uri": "https://localhost:8080/",
          "height": 595
        },
        "outputId": "b2d361a0-95c6-43e9-b237-c0d02af4d0c4"
      },
      "source": [
        "#Create a inverse model for [black-box] attacks\n",
        "\n",
        "def create_Invclassifier(Tuser=195):\n",
        "  Invclassifier = Sequential()\n",
        "  Invclassifier.add(Dense(128, input_dim=Tuser))\n",
        "  Invclassifier.add(BatchNormalization())\n",
        "  Invclassifier.add(Activation('tanh'))\n",
        "\n",
        "  #Invclassifier.add(Dense(256))\n",
        "  #Invclassifier.add(BatchNormalization())\n",
        "  #Invclassifier.add(Activation('tanh'))\n",
        "\n",
        "  Invclassifier.add(Dense(256))\n",
        "  Invclassifier.add(BatchNormalization())\n",
        "  Invclassifier.add(Activation('tanh'))\n",
        "\n",
        "  Invclassifier.add(Dense(256))\n",
        "  Invclassifier.add(BatchNormalization())\n",
        "  Invclassifier.add(Activation('tanh'))\n",
        "\n",
        "  #Invclassifier.add(Dense(256))\n",
        "  #Invclassifier.add(BatchNormalization())\n",
        "  #Invclassifier.add(Activation('tanh'))\n",
        "\n",
        "  Invclassifier.add(Dense(128))\n",
        "  Invclassifier.add(BatchNormalization())\n",
        "  Invclassifier.add(Activation('tanh'))\n",
        "\n",
        "  Invclassifier.add(Dense(65,activation='sigmoid'))\n",
        "\n",
        "  #Invclassifier.compile(loss='mse', optimizer=adam_optimizer(),metrics=['accuracy'])\n",
        "  return Invclassifier\n",
        "\n",
        "InvClsf=create_Invclassifier()\n",
        "InvClsf.summary()"
      ],
      "execution_count": null,
      "outputs": [
        {
          "output_type": "stream",
          "text": [
            "Model: \"sequential_3\"\n",
            "_________________________________________________________________\n",
            "Layer (type)                 Output Shape              Param #   \n",
            "=================================================================\n",
            "dense_11 (Dense)             (None, 128)               25088     \n",
            "_________________________________________________________________\n",
            "batch_normalization_9 (Batch (None, 128)               512       \n",
            "_________________________________________________________________\n",
            "activation_9 (Activation)    (None, 128)               0         \n",
            "_________________________________________________________________\n",
            "dense_12 (Dense)             (None, 256)               33024     \n",
            "_________________________________________________________________\n",
            "batch_normalization_10 (Batc (None, 256)               1024      \n",
            "_________________________________________________________________\n",
            "activation_10 (Activation)   (None, 256)               0         \n",
            "_________________________________________________________________\n",
            "dense_13 (Dense)             (None, 256)               65792     \n",
            "_________________________________________________________________\n",
            "batch_normalization_11 (Batc (None, 256)               1024      \n",
            "_________________________________________________________________\n",
            "activation_11 (Activation)   (None, 256)               0         \n",
            "_________________________________________________________________\n",
            "dense_14 (Dense)             (None, 128)               32896     \n",
            "_________________________________________________________________\n",
            "batch_normalization_12 (Batc (None, 128)               512       \n",
            "_________________________________________________________________\n",
            "activation_12 (Activation)   (None, 128)               0         \n",
            "_________________________________________________________________\n",
            "dense_15 (Dense)             (None, 65)                8385      \n",
            "=================================================================\n",
            "Total params: 168,257\n",
            "Trainable params: 166,721\n",
            "Non-trainable params: 1,536\n",
            "_________________________________________________________________\n"
          ],
          "name": "stdout"
        }
      ]
    },
    {
      "cell_type": "code",
      "metadata": {
        "id": "7rL9uA-Bb9rg",
        "colab": {
          "base_uri": "https://localhost:8080/",
          "height": 1000
        },
        "outputId": "53152073-994e-4190-a467-5ef5ee888c8a"
      },
      "source": [
        "#Train the inverse classifier seperately for black-box attack\n",
        "import keras\n",
        "\n",
        "from keras.datasets import mnist\n",
        "from keras.models import Model\n",
        "from keras.layers import Input, Conv2D, MaxPooling2D, Flatten, Dense, UpSampling2D\n",
        "from keras.optimizers import SGD, RMSprop, Adam\n",
        "from keras.callbacks import ReduceLROnPlateau\n",
        "\n",
        "learning_rate_reduction = ReduceLROnPlateau(monitor='val_acc', patience=5, verbose=1, factor=0.5,min_lr=0.0001)\n",
        "callbacks_list = [learning_rate_reduction]\n",
        "\n",
        "InvClsfI1=create_Invclassifier(97)\n",
        "\n",
        "#------Comment will start from here\n",
        "lossc='mse'\n",
        "optimizerc=RMSprop(lr=0.001, rho=0.9)\n",
        "InvClsfI1.compile(loss=lossc, optimizer=optimizerc)\n",
        "#------Comments will end from here\n",
        "historyc2 =  InvClsfI1.fit(X2_InvTrain, X2_train, batch_size=64, epochs=200,verbose=1, callbacks=callbacks_list)"
      ],
      "execution_count": null,
      "outputs": [
        {
          "output_type": "stream",
          "text": [
            "Epoch 1/200\n",
            "62079/62079 [==============================] - 9s 138us/step - loss: 0.0289\n",
            "Epoch 2/200\n",
            " 1344/62079 [..............................] - ETA: 7s - loss: 0.0230"
          ],
          "name": "stdout"
        },
        {
          "output_type": "stream",
          "text": [
            "/usr/local/lib/python3.6/dist-packages/keras/callbacks/callbacks.py:1042: RuntimeWarning: Reduce LR on plateau conditioned on metric `val_acc` which is not available. Available metrics are: loss,lr\n",
            "  (self.monitor, ','.join(list(logs.keys()))), RuntimeWarning\n"
          ],
          "name": "stderr"
        },
        {
          "output_type": "stream",
          "text": [
            "62079/62079 [==============================] - 8s 128us/step - loss: 0.0220\n",
            "Epoch 3/200\n",
            "62079/62079 [==============================] - 8s 130us/step - loss: 0.0208\n",
            "Epoch 4/200\n",
            "62079/62079 [==============================] - 8s 128us/step - loss: 0.0200\n",
            "Epoch 5/200\n",
            "62079/62079 [==============================] - 8s 134us/step - loss: 0.0194\n",
            "Epoch 6/200\n",
            "62079/62079 [==============================] - 8s 130us/step - loss: 0.0188\n",
            "Epoch 7/200\n",
            "62079/62079 [==============================] - 8s 128us/step - loss: 0.0185\n",
            "Epoch 8/200\n",
            "62079/62079 [==============================] - 8s 128us/step - loss: 0.0180\n",
            "Epoch 9/200\n",
            "62079/62079 [==============================] - 8s 127us/step - loss: 0.0177\n",
            "Epoch 10/200\n",
            "62079/62079 [==============================] - 8s 129us/step - loss: 0.0175\n",
            "Epoch 11/200\n",
            "62079/62079 [==============================] - 8s 130us/step - loss: 0.0173\n",
            "Epoch 12/200\n",
            "62079/62079 [==============================] - 8s 128us/step - loss: 0.0170\n",
            "Epoch 13/200\n",
            "62079/62079 [==============================] - 8s 129us/step - loss: 0.0169\n",
            "Epoch 14/200\n",
            "62079/62079 [==============================] - 8s 127us/step - loss: 0.0167\n",
            "Epoch 15/200\n",
            "62079/62079 [==============================] - 8s 129us/step - loss: 0.0165\n",
            "Epoch 16/200\n",
            "62079/62079 [==============================] - 8s 128us/step - loss: 0.0163\n",
            "Epoch 17/200\n",
            "62079/62079 [==============================] - 8s 128us/step - loss: 0.0162\n",
            "Epoch 18/200\n",
            "62079/62079 [==============================] - 8s 131us/step - loss: 0.0161\n",
            "Epoch 19/200\n",
            "62079/62079 [==============================] - 8s 123us/step - loss: 0.0159\n",
            "Epoch 20/200\n",
            "62079/62079 [==============================] - 8s 128us/step - loss: 0.0158\n",
            "Epoch 21/200\n",
            "62079/62079 [==============================] - 8s 125us/step - loss: 0.0156\n",
            "Epoch 22/200\n",
            "62079/62079 [==============================] - 8s 127us/step - loss: 0.0155\n",
            "Epoch 23/200\n",
            "62079/62079 [==============================] - 8s 127us/step - loss: 0.0155\n",
            "Epoch 24/200\n",
            "62079/62079 [==============================] - 8s 133us/step - loss: 0.0153\n",
            "Epoch 25/200\n",
            "62079/62079 [==============================] - 9s 142us/step - loss: 0.0152\n",
            "Epoch 26/200\n",
            "62079/62079 [==============================] - 8s 132us/step - loss: 0.0151\n",
            "Epoch 27/200\n",
            "62079/62079 [==============================] - 8s 133us/step - loss: 0.0150\n",
            "Epoch 28/200\n",
            "62079/62079 [==============================] - 8s 133us/step - loss: 0.0149\n",
            "Epoch 29/200\n",
            "62079/62079 [==============================] - 8s 136us/step - loss: 0.0148\n",
            "Epoch 30/200\n",
            "62079/62079 [==============================] - 8s 134us/step - loss: 0.0147\n",
            "Epoch 31/200\n",
            "62079/62079 [==============================] - 8s 134us/step - loss: 0.0146\n",
            "Epoch 32/200\n",
            "62079/62079 [==============================] - 8s 135us/step - loss: 0.0145\n",
            "Epoch 33/200\n",
            "62079/62079 [==============================] - 8s 132us/step - loss: 0.0144\n",
            "Epoch 34/200\n",
            "62079/62079 [==============================] - 8s 129us/step - loss: 0.0144\n",
            "Epoch 35/200\n",
            "62079/62079 [==============================] - 8s 127us/step - loss: 0.0143\n",
            "Epoch 36/200\n",
            "62079/62079 [==============================] - 8s 134us/step - loss: 0.0142\n",
            "Epoch 37/200\n",
            "62079/62079 [==============================] - 8s 129us/step - loss: 0.0141\n",
            "Epoch 38/200\n",
            "62079/62079 [==============================] - 8s 134us/step - loss: 0.0140\n",
            "Epoch 39/200\n",
            "62079/62079 [==============================] - 8s 132us/step - loss: 0.0140\n",
            "Epoch 40/200\n",
            "62079/62079 [==============================] - 8s 133us/step - loss: 0.0139\n",
            "Epoch 41/200\n",
            "62079/62079 [==============================] - 8s 133us/step - loss: 0.0139\n",
            "Epoch 42/200\n",
            "62079/62079 [==============================] - 8s 133us/step - loss: 0.0138\n",
            "Epoch 43/200\n",
            "62079/62079 [==============================] - 8s 132us/step - loss: 0.0138\n",
            "Epoch 44/200\n",
            "62079/62079 [==============================] - 8s 130us/step - loss: 0.0137\n",
            "Epoch 45/200\n",
            "62079/62079 [==============================] - 8s 130us/step - loss: 0.0137\n",
            "Epoch 46/200\n",
            "62079/62079 [==============================] - 8s 130us/step - loss: 0.0136\n",
            "Epoch 47/200\n",
            "62079/62079 [==============================] - 8s 131us/step - loss: 0.0135\n",
            "Epoch 48/200\n",
            "62079/62079 [==============================] - 8s 130us/step - loss: 0.0135\n",
            "Epoch 49/200\n",
            "62079/62079 [==============================] - 8s 133us/step - loss: 0.0135\n",
            "Epoch 50/200\n",
            "62079/62079 [==============================] - 8s 131us/step - loss: 0.0134\n",
            "Epoch 51/200\n",
            "62079/62079 [==============================] - 8s 133us/step - loss: 0.0134\n",
            "Epoch 52/200\n",
            "62079/62079 [==============================] - 8s 131us/step - loss: 0.0134\n",
            "Epoch 53/200\n",
            "62079/62079 [==============================] - 8s 130us/step - loss: 0.0134\n",
            "Epoch 54/200\n",
            "62079/62079 [==============================] - 8s 132us/step - loss: 0.0134\n",
            "Epoch 55/200\n",
            "62079/62079 [==============================] - 8s 132us/step - loss: 0.0132\n",
            "Epoch 56/200\n",
            "62079/62079 [==============================] - 8s 133us/step - loss: 0.0132\n",
            "Epoch 57/200\n",
            "62079/62079 [==============================] - 8s 133us/step - loss: 0.0132\n",
            "Epoch 58/200\n",
            "62079/62079 [==============================] - 8s 135us/step - loss: 0.0131\n",
            "Epoch 59/200\n",
            "62079/62079 [==============================] - 8s 135us/step - loss: 0.0131\n",
            "Epoch 60/200\n",
            "62079/62079 [==============================] - 8s 132us/step - loss: 0.0132\n",
            "Epoch 61/200\n",
            "62079/62079 [==============================] - 8s 132us/step - loss: 0.0130\n",
            "Epoch 62/200\n",
            "62079/62079 [==============================] - 8s 136us/step - loss: 0.0131\n",
            "Epoch 63/200\n",
            "62079/62079 [==============================] - 8s 136us/step - loss: 0.0130\n",
            "Epoch 64/200\n",
            "62079/62079 [==============================] - 8s 130us/step - loss: 0.0130\n",
            "Epoch 65/200\n",
            "62079/62079 [==============================] - 8s 125us/step - loss: 0.0130\n",
            "Epoch 66/200\n",
            "62079/62079 [==============================] - 8s 131us/step - loss: 0.0129\n",
            "Epoch 67/200\n",
            "62079/62079 [==============================] - 8s 127us/step - loss: 0.0129\n",
            "Epoch 68/200\n",
            "62079/62079 [==============================] - 8s 130us/step - loss: 0.0129\n",
            "Epoch 69/200\n",
            "62079/62079 [==============================] - 8s 132us/step - loss: 0.0128\n",
            "Epoch 70/200\n",
            "62079/62079 [==============================] - 8s 133us/step - loss: 0.0128\n",
            "Epoch 71/200\n",
            "62079/62079 [==============================] - 8s 131us/step - loss: 0.0128\n",
            "Epoch 72/200\n",
            "62079/62079 [==============================] - 8s 131us/step - loss: 0.0128\n",
            "Epoch 73/200\n",
            "62079/62079 [==============================] - 11s 178us/step - loss: 0.0127\n",
            "Epoch 74/200\n",
            "62079/62079 [==============================] - 8s 133us/step - loss: 0.0127\n",
            "Epoch 75/200\n",
            "62079/62079 [==============================] - 8s 131us/step - loss: 0.0127\n",
            "Epoch 76/200\n",
            "62079/62079 [==============================] - 8s 132us/step - loss: 0.0127\n",
            "Epoch 77/200\n",
            "62079/62079 [==============================] - 8s 133us/step - loss: 0.0126\n",
            "Epoch 78/200\n",
            "62079/62079 [==============================] - 8s 132us/step - loss: 0.0126\n",
            "Epoch 79/200\n",
            "62079/62079 [==============================] - 8s 135us/step - loss: 0.0126\n",
            "Epoch 80/200\n",
            "62079/62079 [==============================] - 8s 130us/step - loss: 0.0126\n",
            "Epoch 81/200\n",
            "62079/62079 [==============================] - 8s 128us/step - loss: 0.0126\n",
            "Epoch 82/200\n",
            "62079/62079 [==============================] - 8s 131us/step - loss: 0.0125\n",
            "Epoch 83/200\n",
            "62079/62079 [==============================] - 8s 132us/step - loss: 0.0125\n",
            "Epoch 84/200\n",
            "62079/62079 [==============================] - 8s 137us/step - loss: 0.0125\n",
            "Epoch 85/200\n",
            "62079/62079 [==============================] - 9s 143us/step - loss: 0.0125\n",
            "Epoch 86/200\n",
            "62079/62079 [==============================] - 9s 142us/step - loss: 0.0125\n",
            "Epoch 87/200\n",
            "62079/62079 [==============================] - 9s 142us/step - loss: 0.0125\n",
            "Epoch 88/200\n",
            "62079/62079 [==============================] - 9s 146us/step - loss: 0.0124\n",
            "Epoch 89/200\n",
            "62079/62079 [==============================] - 9s 147us/step - loss: 0.0124\n",
            "Epoch 90/200\n",
            "62079/62079 [==============================] - 9s 144us/step - loss: 0.0124\n",
            "Epoch 91/200\n",
            "62079/62079 [==============================] - 9s 144us/step - loss: 0.0124\n",
            "Epoch 92/200\n",
            "62079/62079 [==============================] - 9s 143us/step - loss: 0.0124\n",
            "Epoch 93/200\n",
            "62079/62079 [==============================] - 9s 142us/step - loss: 0.0123\n",
            "Epoch 94/200\n",
            "62079/62079 [==============================] - 9s 143us/step - loss: 0.0123\n",
            "Epoch 95/200\n",
            "62079/62079 [==============================] - 9s 142us/step - loss: 0.0123\n",
            "Epoch 96/200\n",
            "62079/62079 [==============================] - 8s 136us/step - loss: 0.0123\n",
            "Epoch 97/200\n",
            "62079/62079 [==============================] - 9s 137us/step - loss: 0.0123\n",
            "Epoch 98/200\n",
            "62079/62079 [==============================] - 9s 146us/step - loss: 0.0123\n",
            "Epoch 99/200\n",
            "62079/62079 [==============================] - 9s 148us/step - loss: 0.0122\n",
            "Epoch 100/200\n",
            "62079/62079 [==============================] - 9s 146us/step - loss: 0.0122\n",
            "Epoch 101/200\n",
            "62079/62079 [==============================] - 9s 142us/step - loss: 0.0122\n",
            "Epoch 102/200\n",
            "62079/62079 [==============================] - 9s 138us/step - loss: 0.0122\n",
            "Epoch 103/200\n",
            "62079/62079 [==============================] - 9s 146us/step - loss: 0.0121\n",
            "Epoch 104/200\n",
            "62079/62079 [==============================] - 9s 146us/step - loss: 0.0121\n",
            "Epoch 105/200\n",
            "62079/62079 [==============================] - 9s 141us/step - loss: 0.0121\n",
            "Epoch 106/200\n",
            "62079/62079 [==============================] - 9s 146us/step - loss: 0.0121\n",
            "Epoch 107/200\n",
            "62079/62079 [==============================] - 9s 146us/step - loss: 0.0121\n",
            "Epoch 108/200\n",
            "62079/62079 [==============================] - 9s 146us/step - loss: 0.0121\n",
            "Epoch 109/200\n",
            "62079/62079 [==============================] - 9s 145us/step - loss: 0.0121\n",
            "Epoch 110/200\n",
            "62079/62079 [==============================] - 9s 138us/step - loss: 0.0121\n",
            "Epoch 111/200\n",
            "62079/62079 [==============================] - 9s 143us/step - loss: 0.0120\n",
            "Epoch 112/200\n",
            "62079/62079 [==============================] - 9s 146us/step - loss: 0.0120\n",
            "Epoch 113/200\n",
            "62079/62079 [==============================] - 9s 148us/step - loss: 0.0121\n",
            "Epoch 114/200\n",
            "62079/62079 [==============================] - 9s 148us/step - loss: 0.0120\n",
            "Epoch 115/200\n",
            "62079/62079 [==============================] - 9s 150us/step - loss: 0.0120\n",
            "Epoch 116/200\n",
            "62079/62079 [==============================] - 9s 151us/step - loss: 0.0120\n",
            "Epoch 117/200\n",
            "62079/62079 [==============================] - 9s 150us/step - loss: 0.0120\n",
            "Epoch 118/200\n",
            "62079/62079 [==============================] - 9s 150us/step - loss: 0.0119\n",
            "Epoch 119/200\n",
            "62079/62079 [==============================] - 10s 153us/step - loss: 0.0119\n",
            "Epoch 120/200\n",
            "62079/62079 [==============================] - 10s 157us/step - loss: 0.0120\n",
            "Epoch 121/200\n",
            "62079/62079 [==============================] - 9s 152us/step - loss: 0.0119\n",
            "Epoch 122/200\n",
            "62079/62079 [==============================] - 9s 147us/step - loss: 0.0119\n",
            "Epoch 123/200\n",
            "62079/62079 [==============================] - 9s 149us/step - loss: 0.0120\n",
            "Epoch 124/200\n",
            "62079/62079 [==============================] - 9s 150us/step - loss: 0.0119\n",
            "Epoch 125/200\n",
            "62079/62079 [==============================] - 8s 135us/step - loss: 0.0118\n",
            "Epoch 126/200\n",
            "62079/62079 [==============================] - 8s 130us/step - loss: 0.0119\n",
            "Epoch 127/200\n",
            "62079/62079 [==============================] - 9s 145us/step - loss: 0.0118\n",
            "Epoch 128/200\n",
            "62079/62079 [==============================] - 9s 140us/step - loss: 0.0118\n",
            "Epoch 129/200\n",
            "62079/62079 [==============================] - 9s 146us/step - loss: 0.0118\n",
            "Epoch 130/200\n",
            "62079/62079 [==============================] - 9s 139us/step - loss: 0.0118\n",
            "Epoch 131/200\n",
            "62079/62079 [==============================] - 8s 131us/step - loss: 0.0118\n",
            "Epoch 132/200\n",
            "62079/62079 [==============================] - 9s 141us/step - loss: 0.0118\n",
            "Epoch 133/200\n",
            "62079/62079 [==============================] - 8s 134us/step - loss: 0.0117\n",
            "Epoch 134/200\n",
            "62079/62079 [==============================] - 9s 142us/step - loss: 0.0117\n",
            "Epoch 135/200\n",
            "62079/62079 [==============================] - 8s 137us/step - loss: 0.0117\n",
            "Epoch 136/200\n",
            "62079/62079 [==============================] - 9s 137us/step - loss: 0.0117\n",
            "Epoch 137/200\n",
            "62079/62079 [==============================] - 8s 136us/step - loss: 0.0117\n",
            "Epoch 138/200\n",
            "62079/62079 [==============================] - 8s 134us/step - loss: 0.0117\n",
            "Epoch 139/200\n",
            "62079/62079 [==============================] - 8s 137us/step - loss: 0.0117\n",
            "Epoch 140/200\n",
            "62079/62079 [==============================] - 8s 135us/step - loss: 0.0116\n",
            "Epoch 141/200\n",
            "62079/62079 [==============================] - 8s 134us/step - loss: 0.0116\n",
            "Epoch 142/200\n",
            "62079/62079 [==============================] - 11s 183us/step - loss: 0.0117\n",
            "Epoch 143/200\n",
            "62079/62079 [==============================] - 8s 137us/step - loss: 0.0116\n",
            "Epoch 144/200\n",
            "62079/62079 [==============================] - 9s 138us/step - loss: 0.0116\n",
            "Epoch 145/200\n",
            "62079/62079 [==============================] - 8s 137us/step - loss: 0.0116\n",
            "Epoch 146/200\n",
            "62079/62079 [==============================] - 8s 136us/step - loss: 0.0116\n",
            "Epoch 147/200\n",
            "62079/62079 [==============================] - 8s 134us/step - loss: 0.0116\n",
            "Epoch 148/200\n",
            "62079/62079 [==============================] - 8s 132us/step - loss: 0.0116\n",
            "Epoch 149/200\n",
            "62079/62079 [==============================] - 8s 133us/step - loss: 0.0116\n",
            "Epoch 150/200\n",
            "62079/62079 [==============================] - 8s 133us/step - loss: 0.0116\n",
            "Epoch 151/200\n",
            "62079/62079 [==============================] - 8s 132us/step - loss: 0.0116\n",
            "Epoch 152/200\n",
            "62079/62079 [==============================] - 8s 132us/step - loss: 0.0116\n",
            "Epoch 153/200\n",
            "62079/62079 [==============================] - 8s 131us/step - loss: 0.0115\n",
            "Epoch 154/200\n",
            "62079/62079 [==============================] - 9s 138us/step - loss: 0.0116\n",
            "Epoch 155/200\n",
            "62079/62079 [==============================] - 8s 134us/step - loss: 0.0115\n",
            "Epoch 156/200\n",
            "62079/62079 [==============================] - 8s 136us/step - loss: 0.0115\n",
            "Epoch 157/200\n",
            "62079/62079 [==============================] - 8s 136us/step - loss: 0.0115\n",
            "Epoch 158/200\n",
            "62079/62079 [==============================] - 8s 135us/step - loss: 0.0115\n",
            "Epoch 159/200\n",
            "62079/62079 [==============================] - 8s 135us/step - loss: 0.0115\n",
            "Epoch 160/200\n",
            "62079/62079 [==============================] - 9s 139us/step - loss: 0.0115\n",
            "Epoch 161/200\n",
            "62079/62079 [==============================] - 8s 132us/step - loss: 0.0115\n",
            "Epoch 162/200\n",
            "62079/62079 [==============================] - 8s 133us/step - loss: 0.0115\n",
            "Epoch 163/200\n",
            "62079/62079 [==============================] - 8s 134us/step - loss: 0.0114\n",
            "Epoch 164/200\n",
            "62079/62079 [==============================] - 8s 134us/step - loss: 0.0115\n",
            "Epoch 165/200\n",
            "62079/62079 [==============================] - 8s 134us/step - loss: 0.0115\n",
            "Epoch 166/200\n",
            "62079/62079 [==============================] - 8s 131us/step - loss: 0.0115\n",
            "Epoch 167/200\n",
            "62079/62079 [==============================] - 8s 134us/step - loss: 0.0115\n",
            "Epoch 168/200\n",
            "62079/62079 [==============================] - 10s 155us/step - loss: 0.0114\n",
            "Epoch 169/200\n",
            "62079/62079 [==============================] - 8s 133us/step - loss: 0.0114\n",
            "Epoch 170/200\n",
            "62079/62079 [==============================] - 8s 135us/step - loss: 0.0114\n",
            "Epoch 171/200\n",
            "62079/62079 [==============================] - 9s 140us/step - loss: 0.0114\n",
            "Epoch 172/200\n",
            "62079/62079 [==============================] - 8s 134us/step - loss: 0.0114\n",
            "Epoch 173/200\n",
            "62079/62079 [==============================] - 8s 131us/step - loss: 0.0114\n",
            "Epoch 174/200\n",
            "62079/62079 [==============================] - 9s 140us/step - loss: 0.0114\n",
            "Epoch 175/200\n",
            "62079/62079 [==============================] - 10s 156us/step - loss: 0.0114\n",
            "Epoch 176/200\n",
            "62079/62079 [==============================] - 9s 150us/step - loss: 0.0114\n",
            "Epoch 177/200\n",
            "62079/62079 [==============================] - 9s 142us/step - loss: 0.0113\n",
            "Epoch 178/200\n",
            "62079/62079 [==============================] - 9s 142us/step - loss: 0.0113\n",
            "Epoch 179/200\n",
            "62079/62079 [==============================] - 10s 153us/step - loss: 0.0114\n",
            "Epoch 180/200\n",
            "62079/62079 [==============================] - 10s 165us/step - loss: 0.0113\n",
            "Epoch 181/200\n",
            "62079/62079 [==============================] - 10s 168us/step - loss: 0.0113\n",
            "Epoch 182/200\n",
            "62079/62079 [==============================] - 10s 160us/step - loss: 0.0114\n",
            "Epoch 183/200\n",
            "62079/62079 [==============================] - 10s 159us/step - loss: 0.0113\n",
            "Epoch 184/200\n",
            "62079/62079 [==============================] - 9s 152us/step - loss: 0.0113\n",
            "Epoch 185/200\n",
            "62079/62079 [==============================] - 10s 159us/step - loss: 0.0113\n",
            "Epoch 186/200\n",
            "62079/62079 [==============================] - 9s 152us/step - loss: 0.0113\n",
            "Epoch 187/200\n",
            "62079/62079 [==============================] - 10s 160us/step - loss: 0.0113\n",
            "Epoch 188/200\n",
            "62079/62079 [==============================] - 10s 159us/step - loss: 0.0113\n",
            "Epoch 189/200\n",
            "62079/62079 [==============================] - 10s 159us/step - loss: 0.0113\n",
            "Epoch 190/200\n",
            "62079/62079 [==============================] - 10s 156us/step - loss: 0.0113\n",
            "Epoch 191/200\n",
            "62079/62079 [==============================] - 10s 158us/step - loss: 0.0112\n",
            "Epoch 192/200\n",
            "62079/62079 [==============================] - 10s 163us/step - loss: 0.0112\n",
            "Epoch 193/200\n",
            "62079/62079 [==============================] - 10s 159us/step - loss: 0.0112\n",
            "Epoch 194/200\n",
            "62079/62079 [==============================] - 9s 142us/step - loss: 0.0112\n",
            "Epoch 195/200\n",
            "62079/62079 [==============================] - 9s 147us/step - loss: 0.0111\n",
            "Epoch 196/200\n",
            "62079/62079 [==============================] - 10s 154us/step - loss: 0.0112\n",
            "Epoch 197/200\n",
            "62079/62079 [==============================] - 10s 163us/step - loss: 0.0112\n",
            "Epoch 198/200\n",
            "62079/62079 [==============================] - 10s 163us/step - loss: 0.0112\n",
            "Epoch 199/200\n",
            "62079/62079 [==============================] - 9s 151us/step - loss: 0.0112\n",
            "Epoch 200/200\n",
            "62079/62079 [==============================] - 9s 153us/step - loss: 0.0112\n"
          ],
          "name": "stdout"
        }
      ]
    },
    {
      "cell_type": "code",
      "metadata": {
        "id": "dfcDdF8RnYy-",
        "colab": {
          "base_uri": "https://localhost:8080/",
          "height": 296
        },
        "outputId": "db345e2d-c9ea-4a4e-bee3-ceb881440153"
      },
      "source": [
        "# Plot the classifier loss and accuracy curves for training and validation data\n",
        "import matplotlib.pyplot as plt\n",
        "plt.plot(historyc2.history['loss'], color='b', label=\"Training loss\")\n",
        "#plt.plot(historyc3.history['val_loss'], color='r',label=\"Validation loss\")\n",
        "legend = plt.legend(loc='best', shadow=True)\n",
        "plt.ylabel('loss')\n",
        "plt.xlabel('epochs')"
      ],
      "execution_count": null,
      "outputs": [
        {
          "output_type": "execute_result",
          "data": {
            "text/plain": [
              "Text(0.5, 0, 'epochs')"
            ]
          },
          "metadata": {
            "tags": []
          },
          "execution_count": 23
        },
        {
          "output_type": "display_data",
          "data": {
            "image/png": "[encoded data removed]",
            "text/plain": [
              "<Figure size 432x288 with 1 Axes>"
            ]
          },
          "metadata": {
            "tags": [],
            "needs_background": "light"
          }
        }
      ]
    },
    {
      "cell_type": "code",
      "metadata": {
        "id": "wKdquk2ACGpz"
      },
      "source": [
        "#Code for file read\n",
        "with open('Data/RankTable.csv') as csvfile:\n",
        "    RankTable = list(csv.reader(csvfile, delimiter=','))\n",
        "RankTable = pd.DataFrame(RankTable[0:][:])\n",
        "#RankTable=np.array(RankTable)\n",
        "#print(RankTable)\n",
        "n1,m1=RankTable.shape\n",
        "for i in range(n1):\n",
        "  if (i%2!=0):\n",
        "    RankTable=RankTable.drop(i)\n",
        "RankTable.reset_index(drop=True, inplace=True)"
      ],
      "execution_count": null,
      "outputs": []
    },
    {
      "cell_type": "code",
      "metadata": {
        "id": "G_kIxhO6drwl",
        "colab": {
          "base_uri": "https://localhost:8080/",
          "height": 255
        },
        "outputId": "969ed580-1ced-4105-f41a-c62611db0de3"
      },
      "source": [
        "print(RankTable)"
      ],
      "execution_count": null,
      "outputs": [
        {
          "output_type": "stream",
          "text": [
            "      0     1     2     3     4     5   ...    91    92    93    94    95    96\n",
            "0    0.0  69.0  68.0  67.0  66.0  65.0  ...  11.0  24.0  47.0  12.0  35.0  36.0\n",
            "1    0.0  69.0  68.0  67.0  66.0  65.0  ...  45.0  46.0  24.0  47.0  35.0  36.0\n",
            "2    0.0  43.0  44.0  95.0  51.0  52.0  ...  35.0  36.0  71.0  69.0  72.0  70.0\n",
            "3    0.0  61.0  60.0  59.0  58.0  57.0  ...  48.0  73.0  71.0  69.0  72.0  70.0\n",
            "4    0.0  35.0  36.0  41.0  43.0  44.0  ...  59.0  57.0  89.0  70.0  27.0  28.0\n",
            "..   ...   ...   ...   ...   ...   ...  ...   ...   ...   ...   ...   ...   ...\n",
            "92   0.0  36.0  41.0  42.0  45.0  49.0  ...  59.0  30.0  57.0  51.0  50.0  52.0\n",
            "93   0.0  41.0  42.0  45.0  47.0  49.0  ...  30.0  59.0  57.0  51.0  50.0  52.0\n",
            "94   0.0  34.0  35.0  40.0  41.0  42.0  ...   6.0  29.0  62.0   9.0  30.0   8.0\n",
            "95  48.0  34.0  35.0  40.0  41.0  42.0  ...  28.0  29.0   9.0  62.0  30.0   8.0\n",
            "96  96.0  34.0  35.0  42.0  43.0  24.0  ...   7.0  29.0   9.0  62.0  30.0   8.0\n",
            "\n",
            "[97 rows x 97 columns]\n"
          ],
          "name": "stdout"
        }
      ]
    },
    {
      "cell_type": "code",
      "metadata": {
        "id": "DlWCv0CbeMl5"
      },
      "source": [
        "#Calculate the distance among test data\n",
        "from scipy.spatial import distance\n",
        "import numpy\n",
        "n1,m1=X2_train.shape\n",
        "n2,m2=X2_test.shape\n",
        "\n",
        "y2T=array(y2T)\n",
        "y2Te=array(y2Te)\n",
        "X2_train=array(X2_train)\n",
        "X2_test=array(X2_test)\n",
        "kNN=250\n",
        "d=numpy.zeros((n2,n2))\n",
        "for i in range(n2):\n",
        "  for j in range(n2):\n",
        "    d[i][j] = distance.euclidean(X2_test[i].astype(float), X2_test[j].astype(float))"
      ],
      "execution_count": null,
      "outputs": []
    },
    {
      "cell_type": "code",
      "metadata": {
        "id": "Hy8Dy89_eWKs"
      },
      "source": [
        "#Calculate the neighbor of original class based on auxilary profile\n",
        "from scipy.spatial import distance\n",
        "import numpy as np\n",
        "#encoded_train = encoder.predict(X2_train)\n",
        "#encoded_test = encoder.predict(X2_test)\n",
        "\n",
        "n1,m1=X2_train.shape\n",
        "n2,m2=X2_test.shape\n",
        "\n",
        "y2T=array(y2T)\n",
        "y2Te=array(y2Te)\n",
        "X2_train=array(X2_train)\n",
        "X2_test=array(X2_test)\n",
        "kNN=250\n",
        "count=0;\n",
        "\n",
        "#indx=2\n",
        "\n",
        "allSort2=numpy.zeros((n1,97))\n",
        "\n",
        "n1,m1=d.shape\n",
        "unique_elements, counts_elements = np.unique(y2Te, return_counts=True)\n",
        "RankDistance=numpy.zeros((unique_elements.size,unique_elements.size))\n",
        "RankTable=numpy.zeros((unique_elements.size,unique_elements.size))\n",
        "\n",
        "for classID1 in unique_elements:\n",
        "   CID1index=numpy.zeros(counts_elements[classID1])\n",
        "   n2=CID1index.size\n",
        "   print(n2)\n",
        "   indx=0\n",
        "   for i in range(n1):\n",
        "     if(y2Te[i]==classID1):\n",
        "       CID1index[indx]=i\n",
        "       indx=indx+1\n",
        "\n",
        "   for classID2 in unique_elements:\n",
        "     sumPUser=0\n",
        "     #print(sumPUser)\n",
        "     for eachIndx in range(n2):\n",
        "       #print(CID1index[eachIndx])  \n",
        "       ind=d[int(CID1index[eachIndx])].argsort() \n",
        "       sum1=0\n",
        "       sum2=0 \n",
        "       k=0 \n",
        "       l=0 \n",
        "       while (k<kNN and l<n2):\n",
        "         if(y22_test[ind[l]]!=classID1 and y22_test[ind[l]]==classID2):\n",
        "           #d = distance.euclidean(encoded_train[ind[k]], encoded_test[indx])\n",
        "           d1 = d[int(CID1index[eachIndx])][ind[l]]\n",
        "           #d = distance.euclidean(X2_train[ind[k]].astype(float), X2_test[indx].astype(float))\n",
        "           sum1=sum1+np.exp(-d1)\n",
        "           k=k+1\n",
        "           l=l+1\n",
        "         elif(y22_test[ind[l]]!=classID1) :\n",
        "           #d = distance.euclidean(encoded_train[ind[k]], encoded_test[indx])\n",
        "           d2 = d[int(CID1index[eachIndx])][ind[l]]\n",
        "           #d = distance.euclidean(X2_train[ind[k]].astype(float), X2_test[indx].astype(float))\n",
        "           sum2=sum2+np.exp(-d2)\n",
        "           k=k+1\n",
        "           l=l+1\n",
        "         else:\n",
        "           l=l+1\n",
        "       \n",
        "       sumPUser+= (sum1/(sum1+sum2))\n",
        "       #print(sumPUser)\n",
        "     #print(classID2)\n",
        "     RankDistance[classID1][classID2]=sumPUser/n2\n",
        "     #print(sumPUser/n2)\n",
        "   RankTable[classID1]=RankDistance[classID1].argsort()"
      ],
      "execution_count": null,
      "outputs": []
    },
    {
      "cell_type": "code",
      "metadata": {
        "id": "dZDcEKr_eXtZ"
      },
      "source": [
        "#Print rank-table\n",
        "print(RankTable)"
      ],
      "execution_count": null,
      "outputs": []
    },
    {
      "cell_type": "code",
      "metadata": {
        "id": "nE23NDRzegRs"
      },
      "source": [
        "# writing to csv file  \n",
        "with open('Data/RankTable.csv', 'w') as csvfile:  \n",
        "    # creating a csv writer object  \n",
        "    csvwriter = csv.writer(csvfile)          \n",
        "    # writing the data rows  \n",
        "    csvwriter.writerows(RankTable)"
      ],
      "execution_count": null,
      "outputs": []
    },
    {
      "cell_type": "code",
      "metadata": {
        "id": "0iKG2-EtemlE"
      },
      "source": [
        "#Code for file read\n",
        "#Random generation of input for inverse classifier\n",
        "import numpy as np\n",
        "rank=10\n",
        "y22_train=Classfier2.predict(X1_train)\n",
        "y22_train=array(y22_train)\n",
        "n,m=y22_train.shape\n",
        "y1_Rand = np.zeros([n, m], dtype=float)\n",
        "#ind=y22_train[0].argsort()[-rank:][::-1]\n",
        "#indx=int(float(RankTable[ind[0]][96]))\n",
        "#print(indx)\n",
        "\n",
        "for i in range(n):\n",
        " ind=y22_train[i].argsort()[-rank:][::-1]\n",
        " start=0.98\n",
        " end=1.0\n",
        " sumP=0\n",
        " for j in range(rank):\n",
        "  if(j==0):\n",
        "    np.put(y1_Rand[i], ind[0], random.uniform(start, end))\n",
        "    sumP+=y1_Rand[i,ind[0]]\n",
        "    #print(y1_Rand[i])\n",
        "  else:\n",
        "    indx=int(float(RankTable[ind[0]][97-j]))\n",
        "    #indx=int(RankTable[ind[0],97-j])\n",
        "    y1_Rand[i,indx]=random.uniform(start, end)\n",
        "    sumP+=y1_Rand[i,indx]\n",
        "  remaining=1-sumP\n",
        "  end=remaining\n",
        "  #print(end)\n",
        "  if(end >=0.1):\n",
        "   start=end-0.1\n",
        "  else:\n",
        "   start=0  "
      ],
      "execution_count": null,
      "outputs": []
    },
    {
      "cell_type": "code",
      "metadata": {
        "id": "7r_uCpIckarU"
      },
      "source": [
        "#Random generation of input for inverse classifier\n",
        "import numpy as np\n",
        "rank=10\n",
        "y22_train=Classfier2.predict(X1_train)\n",
        "y22_train=array(y22_train)\n",
        "n,m=y22_train.shape\n",
        "y1_Rand = np.zeros([n, m], dtype=float)\n",
        "\n",
        "for i in range(n):\n",
        " ind=y22_train[i].argsort()[-rank:][::-1]\n",
        " start=0.98\n",
        " end=1.0\n",
        " sumP=0\n",
        " for j in range(rank):\n",
        "  if(j==0):\n",
        "    np.put(y1_Rand[i], ind[0], random.uniform(start, end))\n",
        "    sumP+=y1_Rand[i,ind[0]]\n",
        "    #print(y1_Rand[i])\n",
        "  else:\n",
        "    indx=int(RankTable[ind[0],97-j])\n",
        "    #indx=int(RankTable[ind[0],97-j])\n",
        "    y1_Rand[i,indx]=random.uniform(start, end)\n",
        "    sumP+=y1_Rand[i,indx]\n",
        "  remaining=1-sumP\n",
        "  end=remaining\n",
        "  #print(end)\n",
        "  if(end >=0.1):\n",
        "   start=end-0.1\n",
        "  else:\n",
        "   start=0"
      ],
      "execution_count": null,
      "outputs": []
    },
    {
      "cell_type": "code",
      "metadata": {
        "id": "rjCA5aM2e4FD",
        "colab": {
          "base_uri": "https://localhost:8080/",
          "height": 442
        },
        "outputId": "53ad94e4-16f0-4b95-b88f-c307c58407de"
      },
      "source": [
        "#print random generated input\n",
        "print(y1_Rand[0])"
      ],
      "execution_count": null,
      "outputs": [
        {
          "output_type": "stream",
          "text": [
            "[0.00000000e+00 0.00000000e+00 0.00000000e+00 0.00000000e+00\n",
            " 0.00000000e+00 0.00000000e+00 0.00000000e+00 0.00000000e+00\n",
            " 0.00000000e+00 0.00000000e+00 0.00000000e+00 0.00000000e+00\n",
            " 0.00000000e+00 0.00000000e+00 0.00000000e+00 0.00000000e+00\n",
            " 0.00000000e+00 0.00000000e+00 0.00000000e+00 0.00000000e+00\n",
            " 0.00000000e+00 0.00000000e+00 0.00000000e+00 0.00000000e+00\n",
            " 0.00000000e+00 0.00000000e+00 0.00000000e+00 0.00000000e+00\n",
            " 0.00000000e+00 0.00000000e+00 2.64937560e-03 0.00000000e+00\n",
            " 0.00000000e+00 0.00000000e+00 0.00000000e+00 0.00000000e+00\n",
            " 0.00000000e+00 2.16830720e-05 0.00000000e+00 0.00000000e+00\n",
            " 0.00000000e+00 0.00000000e+00 0.00000000e+00 0.00000000e+00\n",
            " 9.94221689e-01 0.00000000e+00 0.00000000e+00 1.36741673e-06\n",
            " 0.00000000e+00 0.00000000e+00 0.00000000e+00 0.00000000e+00\n",
            " 0.00000000e+00 0.00000000e+00 0.00000000e+00 0.00000000e+00\n",
            " 0.00000000e+00 0.00000000e+00 0.00000000e+00 0.00000000e+00\n",
            " 0.00000000e+00 0.00000000e+00 0.00000000e+00 0.00000000e+00\n",
            " 0.00000000e+00 0.00000000e+00 0.00000000e+00 0.00000000e+00\n",
            " 3.13808093e-04 0.00000000e+00 0.00000000e+00 0.00000000e+00\n",
            " 3.35439435e-04 0.00000000e+00 0.00000000e+00 0.00000000e+00\n",
            " 8.84061032e-06 0.00000000e+00 0.00000000e+00 1.15964533e-03\n",
            " 0.00000000e+00 0.00000000e+00 0.00000000e+00 0.00000000e+00\n",
            " 0.00000000e+00 0.00000000e+00 0.00000000e+00 0.00000000e+00\n",
            " 1.31532680e-04 0.00000000e+00 0.00000000e+00 0.00000000e+00\n",
            " 0.00000000e+00 0.00000000e+00 0.00000000e+00 0.00000000e+00\n",
            " 0.00000000e+00]\n"
          ],
          "name": "stdout"
        }
      ]
    },
    {
      "cell_type": "code",
      "metadata": {
        "id": "P0afH4Rve7NE",
        "colab": {
          "base_uri": "https://localhost:8080/",
          "height": 68
        },
        "outputId": "348f0ca2-7bae-40ea-9453-73de10df1a0f"
      },
      "source": [
        "#Calculate the accuracy of data generated by inverse classifier\n",
        "#Input random generated probablity input to inverse classifier to get data sample\n",
        "#Input those data samples to the classifier\n",
        "X1_Rand=InvClsfI1.predict(y1_Rand)\n",
        "Classfier2.compile(loss='categorical_crossentropy', optimizer=Adam(),metrics=['categorical_accuracy'])\n",
        "loss, accuracy = Classfier2.evaluate(X1_Rand, y1_train)\n",
        "#print('Test score:', score)\n",
        "print('Loss:', loss)\n",
        "print('Accuracy:', accuracy)"
      ],
      "execution_count": null,
      "outputs": [
        {
          "output_type": "stream",
          "text": [
            "62079/62079 [==============================] - 3s 42us/step\n",
            "Loss: 6.5013152592982415\n",
            "Accuracy: 0.35185810923576355\n"
          ],
          "name": "stdout"
        }
      ]
    },
    {
      "cell_type": "code",
      "metadata": {
        "id": "LtDjwey8thXI",
        "colab": {
          "base_uri": "https://localhost:8080/",
          "height": 71
        },
        "outputId": "1ec7c0f7-24ef-45f3-91bb-06b8cb02a5ae"
      },
      "source": [
        "from sklearn.metrics import classification_report\n",
        "\n",
        "Y_train = np.argmax(y1_train, axis=1)\n",
        "y_pred=Classfier2.predict_classes(X1_Rand)\n",
        "#print(keras.metrics.categorical_accuracy(y1_train, y_pred))\n",
        "allResult=classification_report(Y_train, y_pred)"
      ],
      "execution_count": null,
      "outputs": [
        {
          "output_type": "stream",
          "text": [
            "/usr/local/lib/python3.6/dist-packages/sklearn/metrics/_classification.py:1272: UndefinedMetricWarning: Precision and F-score are ill-defined and being set to 0.0 in labels with no predicted samples. Use `zero_division` parameter to control this behavior.\n",
            "  _warn_prf(average, modifier, msg_start, len(result))\n"
          ],
          "name": "stderr"
        }
      ]
    },
    {
      "cell_type": "code",
      "metadata": {
        "id": "_j19t_Wl1Sfz",
        "colab": {
          "base_uri": "https://localhost:8080/",
          "height": 1000
        },
        "outputId": "92f35f03-2210-4fac-b165-171e51441a47"
      },
      "source": [
        "import ast\n",
        "print(allResult)"
      ],
      "execution_count": null,
      "outputs": [
        {
          "output_type": "stream",
          "text": [
            "              precision    recall  f1-score   support\n",
            "\n",
            "           0       0.71      0.85      0.78       660\n",
            "           1       0.33      0.82      0.47       625\n",
            "           2       0.00      0.00      0.00       605\n",
            "           3       1.00      0.08      0.14       635\n",
            "           4       0.05      0.01      0.02       652\n",
            "           5       0.00      0.00      0.00       618\n",
            "           6       0.00      0.00      0.00       639\n",
            "           7       0.32      0.96      0.48       617\n",
            "           8       0.95      0.88      0.92       659\n",
            "           9       0.74      0.75      0.74       635\n",
            "          10       0.01      0.05      0.02       644\n",
            "          11       1.00      0.70      0.83       628\n",
            "          12       0.99      0.94      0.96       666\n",
            "          13       0.10      0.03      0.05       641\n",
            "          14       0.00      0.00      0.00       640\n",
            "          15       0.00      0.00      0.00       658\n",
            "          16       0.00      0.00      0.00       631\n",
            "          17       0.77      0.29      0.42       651\n",
            "          18       0.47      0.64      0.54       638\n",
            "          19       0.00      0.00      0.00       642\n",
            "          20       0.36      0.75      0.48       617\n",
            "          21       0.00      0.00      0.00       642\n",
            "          22       0.69      0.88      0.77       649\n",
            "          23       0.26      0.79      0.40       646\n",
            "          24       0.13      0.13      0.13       659\n",
            "          25       0.43      0.54      0.48       649\n",
            "          26       0.68      0.62      0.65       628\n",
            "          27       0.40      0.03      0.05       613\n",
            "          28       0.02      0.01      0.01       597\n",
            "          29       0.22      0.93      0.36       645\n",
            "          30       0.82      0.41      0.54       629\n",
            "          31       0.03      0.16      0.05       652\n",
            "          32       0.53      0.55      0.54       653\n",
            "          33       0.96      0.43      0.59       615\n",
            "          34       0.43      0.84      0.57       648\n",
            "          35       0.32      0.02      0.05       644\n",
            "          36       0.97      0.79      0.87       611\n",
            "          37       0.37      0.66      0.47       642\n",
            "          38       0.00      0.00      0.00       632\n",
            "          39       0.03      0.02      0.03       638\n",
            "          40       0.44      0.78      0.57       641\n",
            "          41       0.02      0.04      0.03       636\n",
            "          42       0.42      0.74      0.54       621\n",
            "          43       0.87      0.04      0.08       622\n",
            "          44       1.00      0.02      0.04       630\n",
            "          45       0.93      0.53      0.67       647\n",
            "          46       0.96      0.28      0.43       645\n",
            "          47       0.17      0.02      0.03       648\n",
            "          48       0.00      0.00      0.00       635\n",
            "          49       0.80      0.78      0.79       617\n",
            "          50       0.28      0.70      0.40       668\n",
            "          51       0.07      0.00      0.00       633\n",
            "          52       0.19      0.01      0.02       636\n",
            "          53       0.10      0.00      0.00       650\n",
            "          54       0.00      0.00      0.00       631\n",
            "          55       0.85      0.17      0.28       644\n",
            "          56       1.00      0.06      0.11       632\n",
            "          57       0.97      0.91      0.94       666\n",
            "          58       0.27      0.61      0.37       645\n",
            "          59       0.38      0.71      0.49       645\n",
            "          60       0.06      0.08      0.07       649\n",
            "          61       0.00      0.00      0.00       656\n",
            "          62       0.78      0.05      0.09       626\n",
            "          63       0.27      0.82      0.40       619\n",
            "          64       0.00      0.00      0.00       652\n",
            "          65       0.99      0.52      0.68       607\n",
            "          66       0.33      0.43      0.37       669\n",
            "          67       0.67      0.76      0.71       661\n",
            "          68       0.00      0.00      0.00       653\n",
            "          69       0.46      0.79      0.59       664\n",
            "          70       0.15      0.26      0.19       649\n",
            "          71       0.00      0.00      0.00       618\n",
            "          72       0.27      0.89      0.41       628\n",
            "          73       0.46      0.18      0.26       632\n",
            "          74       0.00      0.00      0.00       651\n",
            "          75       0.00      0.00      0.00       624\n",
            "          76       0.00      0.00      0.00       629\n",
            "          77       0.07      0.09      0.08       643\n",
            "          78       0.98      0.64      0.78       650\n",
            "          79       0.49      0.91      0.63       642\n",
            "          80       0.18      0.85      0.30       652\n",
            "          81       0.00      0.00      0.00       674\n",
            "          82       0.00      0.00      0.00       651\n",
            "          83       0.68      0.09      0.16       643\n",
            "          84       0.17      0.01      0.02       636\n",
            "          85       0.44      0.88      0.59       651\n",
            "          86       0.16      0.09      0.11       640\n",
            "          87       0.03      0.04      0.04       661\n",
            "          88       0.06      0.01      0.02       636\n",
            "          89       0.00      0.00      0.00       636\n",
            "          90       0.46      0.38      0.42       642\n",
            "          91       0.00      0.00      0.00       625\n",
            "          92       0.69      0.66      0.68       627\n",
            "          93       0.75      0.83      0.79       659\n",
            "          94       0.94      0.89      0.91       660\n",
            "          95       0.00      0.00      0.00       632\n",
            "          96       0.99      0.87      0.93       647\n",
            "\n",
            "    accuracy                           0.35     62079\n",
            "   macro avg       0.38      0.35      0.30     62079\n",
            "weighted avg       0.38      0.35      0.30     62079\n",
            "\n"
          ],
          "name": "stdout"
        }
      ]
    },
    {
      "cell_type": "code",
      "metadata": {
        "id": "BKkZ47RyttEK",
        "colab": {
          "base_uri": "https://localhost:8080/",
          "height": 282
        },
        "outputId": "a84c9abe-208c-4776-8523-7070541d5e70"
      },
      "source": [
        "import matplotlib.pyplot as plt\n",
        "fig = plt.figure()\n",
        "#ax = fig.add_axes([0,0,97,1])\n",
        "listu=np.arange(0, 97, 1).tolist()\n",
        "accept = [0.85,0.82,0.00,0.08,0.01,0.00,0.00,0.96,0.88,0.75,0.05,0.70,0.94,0.03,0.00,0.00,0.00,0.29,0.64,0.00,\n",
        "          0.75,0.00,0.88,0.79,0.13,0.54,0.62,0.03,0.01,0.93,0.41,0.16,0.55,0.43,0.84,0.02,0.79,0.66,0.00,0.02,\n",
        "          0.78,0.04,0.74,0.04,0.02,0.53,0.28,0.02,0.00,0.78,0.70,0.00,0.01,0.00,0.00,0.17,0.06,0.91,0.61,0.71,\n",
        "          0.08,0.00,0.05,0.82,0.00,0.52,0.43,0.76,0.00,0.79,0.26,0.00,0.89,0.18,0.00,0.00,0.00,0.09,0.64,0.91,\n",
        "          0.85,0.00,0.00,0.09,0.01,0.88,0.09,0.04,0.01,0.00,0.38,0.00,0.66,0.83,0.89,0.00,0.87]\n",
        "accept=np.array(accept) \n",
        "accept=100 *accept         \n",
        "plt.bar(listu,accept)\n",
        "plt.ylabel('percentage')\n",
        "plt.xlabel('user index')\n",
        "plt.show()"
      ],
      "execution_count": null,
      "outputs": [
        {
          "output_type": "display_data",
          "data": {
            "image/png": "[encoded data removed]",
            "text/plain": [
              "<Figure size 432x288 with 1 Axes>"
            ]
          },
          "metadata": {
            "tags": [],
            "needs_background": "light"
          }
        }
      ]
    }
  ]
}